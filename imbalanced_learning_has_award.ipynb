{
 "cells": [
  {
   "cell_type": "markdown",
   "metadata": {},
   "source": [
    "# Imbalanced Learning"
   ]
  },
  {
   "cell_type": "code",
   "execution_count": 27,
   "metadata": {},
   "outputs": [],
   "source": [
    "%matplotlib inline\n",
    "\n",
    "import numpy as np\n",
    "import pandas as pd\n",
    "import seaborn as sns\n",
    "import matplotlib.pyplot as plt\n",
    "from collections import Counter\n",
    "from collections import defaultdict"
   ]
  },
  {
   "cell_type": "markdown",
   "metadata": {},
   "source": [
    "### Chech imbalanced variables"
   ]
  },
  {
   "cell_type": "code",
   "execution_count": 28,
   "metadata": {},
   "outputs": [],
   "source": [
    "df = pd.read_csv('imbd_cleaned.csv')"
   ]
  },
  {
   "cell_type": "code",
   "execution_count": 29,
   "metadata": {},
   "outputs": [
    {
     "data": {
      "text/plain": [
       "originalTitle          object\n",
       "rating                 object\n",
       "startYear               int64\n",
       "runtimeMinutes        float64\n",
       "awardWins             float64\n",
       "numVotes              float64\n",
       "totalImages           float64\n",
       "totalVideos           float64\n",
       "totalCredits            int64\n",
       "criticReviewsTotal    float64\n",
       "titleType              object\n",
       "AwNmExWins            float64\n",
       "canHaveEpisodes         int64\n",
       "isAdult                 int64\n",
       "numRegions              int64\n",
       "userReviewsTotal      float64\n",
       "countryOfOrigin        object\n",
       "genres                 object\n",
       "castNumber            float64\n",
       "companiesNumber       float64\n",
       "averageRating         float64\n",
       "regions                object\n",
       "externalLinks         float64\n",
       "writerCredits         float64\n",
       "directorsCredits      float64\n",
       "soundMixes             object\n",
       "quotesTotal           float64\n",
       "dtype: object"
      ]
     },
     "execution_count": 29,
     "metadata": {},
     "output_type": "execute_result"
    }
   ],
   "source": [
    "df.dtypes"
   ]
  },
  {
   "cell_type": "code",
   "execution_count": 30,
   "metadata": {},
   "outputs": [],
   "source": [
    "del df['originalTitle']\n",
    "del df['rating']\n",
    "del df['genres']\n",
    "del df['countryOfOrigin']\n",
    "del df['titleType']\n",
    "del df['regions']\n",
    "del df['soundMixes']"
   ]
  },
  {
   "cell_type": "markdown",
   "metadata": {},
   "source": [
    "## Creiamo la variabile has_award"
   ]
  },
  {
   "cell_type": "code",
   "execution_count": 31,
   "metadata": {},
   "outputs": [],
   "source": [
    "df['has_award'] = df['awardWins'] > 0\n",
    "df['has_award'] = (df['awardWins'].fillna(0) > 0).astype(int)"
   ]
  },
  {
   "cell_type": "code",
   "execution_count": 32,
   "metadata": {},
   "outputs": [
    {
     "data": {
      "text/html": [
       "<div>\n",
       "<style scoped>\n",
       "    .dataframe tbody tr th:only-of-type {\n",
       "        vertical-align: middle;\n",
       "    }\n",
       "\n",
       "    .dataframe tbody tr th {\n",
       "        vertical-align: top;\n",
       "    }\n",
       "\n",
       "    .dataframe thead th {\n",
       "        text-align: right;\n",
       "    }\n",
       "</style>\n",
       "<table border=\"1\" class=\"dataframe\">\n",
       "  <thead>\n",
       "    <tr style=\"text-align: right;\">\n",
       "      <th></th>\n",
       "      <th>startYear</th>\n",
       "      <th>runtimeMinutes</th>\n",
       "      <th>awardWins</th>\n",
       "      <th>numVotes</th>\n",
       "      <th>totalImages</th>\n",
       "      <th>totalVideos</th>\n",
       "      <th>totalCredits</th>\n",
       "      <th>criticReviewsTotal</th>\n",
       "      <th>AwNmExWins</th>\n",
       "      <th>canHaveEpisodes</th>\n",
       "      <th>...</th>\n",
       "      <th>numRegions</th>\n",
       "      <th>userReviewsTotal</th>\n",
       "      <th>castNumber</th>\n",
       "      <th>companiesNumber</th>\n",
       "      <th>averageRating</th>\n",
       "      <th>externalLinks</th>\n",
       "      <th>writerCredits</th>\n",
       "      <th>directorsCredits</th>\n",
       "      <th>quotesTotal</th>\n",
       "      <th>has_award</th>\n",
       "    </tr>\n",
       "  </thead>\n",
       "  <tbody>\n",
       "    <tr>\n",
       "      <th>count</th>\n",
       "      <td>148624.000000</td>\n",
       "      <td>148624.00000</td>\n",
       "      <td>148624.000000</td>\n",
       "      <td>148624.000000</td>\n",
       "      <td>148624.000000</td>\n",
       "      <td>148624.000000</td>\n",
       "      <td>148624.000000</td>\n",
       "      <td>148624.000000</td>\n",
       "      <td>148624.000000</td>\n",
       "      <td>148624.000000</td>\n",
       "      <td>...</td>\n",
       "      <td>148624.00000</td>\n",
       "      <td>148624.000000</td>\n",
       "      <td>148624.000000</td>\n",
       "      <td>148624.000000</td>\n",
       "      <td>148624.000000</td>\n",
       "      <td>148624.000000</td>\n",
       "      <td>148624.000000</td>\n",
       "      <td>148624.000000</td>\n",
       "      <td>148624.000000</td>\n",
       "      <td>148624.000000</td>\n",
       "    </tr>\n",
       "    <tr>\n",
       "      <th>mean</th>\n",
       "      <td>1994.904033</td>\n",
       "      <td>41.20062</td>\n",
       "      <td>0.090815</td>\n",
       "      <td>3.809885</td>\n",
       "      <td>1.133666</td>\n",
       "      <td>0.067701</td>\n",
       "      <td>52.377395</td>\n",
       "      <td>0.349184</td>\n",
       "      <td>0.104147</td>\n",
       "      <td>0.069652</td>\n",
       "      <td>...</td>\n",
       "      <td>2.69766</td>\n",
       "      <td>0.544590</td>\n",
       "      <td>2.373268</td>\n",
       "      <td>1.315607</td>\n",
       "      <td>6.873388</td>\n",
       "      <td>0.842966</td>\n",
       "      <td>0.867662</td>\n",
       "      <td>0.606135</td>\n",
       "      <td>0.218909</td>\n",
       "      <td>0.078352</td>\n",
       "    </tr>\n",
       "    <tr>\n",
       "      <th>std</th>\n",
       "      <td>24.908551</td>\n",
       "      <td>42.90271</td>\n",
       "      <td>0.354451</td>\n",
       "      <td>1.607073</td>\n",
       "      <td>1.110513</td>\n",
       "      <td>0.266862</td>\n",
       "      <td>69.672784</td>\n",
       "      <td>0.766884</td>\n",
       "      <td>0.386245</td>\n",
       "      <td>0.254561</td>\n",
       "      <td>...</td>\n",
       "      <td>4.78779</td>\n",
       "      <td>0.940656</td>\n",
       "      <td>1.070420</td>\n",
       "      <td>0.920745</td>\n",
       "      <td>1.348889</td>\n",
       "      <td>1.049074</td>\n",
       "      <td>0.662543</td>\n",
       "      <td>0.345369</td>\n",
       "      <td>0.636980</td>\n",
       "      <td>0.268726</td>\n",
       "    </tr>\n",
       "    <tr>\n",
       "      <th>min</th>\n",
       "      <td>1878.000000</td>\n",
       "      <td>0.00000</td>\n",
       "      <td>0.000000</td>\n",
       "      <td>1.791759</td>\n",
       "      <td>0.000000</td>\n",
       "      <td>0.000000</td>\n",
       "      <td>0.000000</td>\n",
       "      <td>0.000000</td>\n",
       "      <td>0.000000</td>\n",
       "      <td>0.000000</td>\n",
       "      <td>...</td>\n",
       "      <td>0.00000</td>\n",
       "      <td>0.000000</td>\n",
       "      <td>0.000000</td>\n",
       "      <td>0.000000</td>\n",
       "      <td>1.000000</td>\n",
       "      <td>0.000000</td>\n",
       "      <td>0.000000</td>\n",
       "      <td>0.000000</td>\n",
       "      <td>0.000000</td>\n",
       "      <td>0.000000</td>\n",
       "    </tr>\n",
       "    <tr>\n",
       "      <th>25%</th>\n",
       "      <td>1981.000000</td>\n",
       "      <td>0.00000</td>\n",
       "      <td>0.000000</td>\n",
       "      <td>2.564949</td>\n",
       "      <td>0.693147</td>\n",
       "      <td>0.000000</td>\n",
       "      <td>16.000000</td>\n",
       "      <td>0.000000</td>\n",
       "      <td>0.000000</td>\n",
       "      <td>0.000000</td>\n",
       "      <td>...</td>\n",
       "      <td>1.00000</td>\n",
       "      <td>0.000000</td>\n",
       "      <td>1.791759</td>\n",
       "      <td>0.693147</td>\n",
       "      <td>6.100000</td>\n",
       "      <td>0.000000</td>\n",
       "      <td>0.000000</td>\n",
       "      <td>0.693147</td>\n",
       "      <td>0.000000</td>\n",
       "      <td>0.000000</td>\n",
       "    </tr>\n",
       "    <tr>\n",
       "      <th>50%</th>\n",
       "      <td>1999.000000</td>\n",
       "      <td>29.00000</td>\n",
       "      <td>0.000000</td>\n",
       "      <td>3.367296</td>\n",
       "      <td>0.693147</td>\n",
       "      <td>0.000000</td>\n",
       "      <td>34.000000</td>\n",
       "      <td>0.000000</td>\n",
       "      <td>0.000000</td>\n",
       "      <td>0.000000</td>\n",
       "      <td>...</td>\n",
       "      <td>1.00000</td>\n",
       "      <td>0.000000</td>\n",
       "      <td>2.564949</td>\n",
       "      <td>1.098612</td>\n",
       "      <td>7.100000</td>\n",
       "      <td>0.693147</td>\n",
       "      <td>0.693147</td>\n",
       "      <td>0.693147</td>\n",
       "      <td>0.000000</td>\n",
       "      <td>0.000000</td>\n",
       "    </tr>\n",
       "    <tr>\n",
       "      <th>75%</th>\n",
       "      <td>2015.000000</td>\n",
       "      <td>72.00000</td>\n",
       "      <td>0.000000</td>\n",
       "      <td>4.653960</td>\n",
       "      <td>1.609438</td>\n",
       "      <td>0.000000</td>\n",
       "      <td>63.000000</td>\n",
       "      <td>0.000000</td>\n",
       "      <td>0.000000</td>\n",
       "      <td>0.000000</td>\n",
       "      <td>...</td>\n",
       "      <td>2.00000</td>\n",
       "      <td>0.693147</td>\n",
       "      <td>3.091042</td>\n",
       "      <td>1.791759</td>\n",
       "      <td>7.800000</td>\n",
       "      <td>1.386294</td>\n",
       "      <td>1.386294</td>\n",
       "      <td>0.693147</td>\n",
       "      <td>0.000000</td>\n",
       "      <td>0.000000</td>\n",
       "    </tr>\n",
       "    <tr>\n",
       "      <th>max</th>\n",
       "      <td>2024.000000</td>\n",
       "      <td>780.00000</td>\n",
       "      <td>6.102559</td>\n",
       "      <td>13.906790</td>\n",
       "      <td>8.392083</td>\n",
       "      <td>6.856462</td>\n",
       "      <td>5480.000000</td>\n",
       "      <td>6.075346</td>\n",
       "      <td>4.836282</td>\n",
       "      <td>1.000000</td>\n",
       "      <td>...</td>\n",
       "      <td>73.00000</td>\n",
       "      <td>8.116716</td>\n",
       "      <td>8.440096</td>\n",
       "      <td>6.347389</td>\n",
       "      <td>10.000000</td>\n",
       "      <td>6.359574</td>\n",
       "      <td>3.951244</td>\n",
       "      <td>4.077537</td>\n",
       "      <td>5.883322</td>\n",
       "      <td>1.000000</td>\n",
       "    </tr>\n",
       "  </tbody>\n",
       "</table>\n",
       "<p>8 rows × 21 columns</p>\n",
       "</div>"
      ],
      "text/plain": [
       "           startYear  runtimeMinutes      awardWins       numVotes  \\\n",
       "count  148624.000000    148624.00000  148624.000000  148624.000000   \n",
       "mean     1994.904033        41.20062       0.090815       3.809885   \n",
       "std        24.908551        42.90271       0.354451       1.607073   \n",
       "min      1878.000000         0.00000       0.000000       1.791759   \n",
       "25%      1981.000000         0.00000       0.000000       2.564949   \n",
       "50%      1999.000000        29.00000       0.000000       3.367296   \n",
       "75%      2015.000000        72.00000       0.000000       4.653960   \n",
       "max      2024.000000       780.00000       6.102559      13.906790   \n",
       "\n",
       "         totalImages    totalVideos   totalCredits  criticReviewsTotal  \\\n",
       "count  148624.000000  148624.000000  148624.000000       148624.000000   \n",
       "mean        1.133666       0.067701      52.377395            0.349184   \n",
       "std         1.110513       0.266862      69.672784            0.766884   \n",
       "min         0.000000       0.000000       0.000000            0.000000   \n",
       "25%         0.693147       0.000000      16.000000            0.000000   \n",
       "50%         0.693147       0.000000      34.000000            0.000000   \n",
       "75%         1.609438       0.000000      63.000000            0.000000   \n",
       "max         8.392083       6.856462    5480.000000            6.075346   \n",
       "\n",
       "          AwNmExWins  canHaveEpisodes  ...    numRegions  userReviewsTotal  \\\n",
       "count  148624.000000    148624.000000  ...  148624.00000     148624.000000   \n",
       "mean        0.104147         0.069652  ...       2.69766          0.544590   \n",
       "std         0.386245         0.254561  ...       4.78779          0.940656   \n",
       "min         0.000000         0.000000  ...       0.00000          0.000000   \n",
       "25%         0.000000         0.000000  ...       1.00000          0.000000   \n",
       "50%         0.000000         0.000000  ...       1.00000          0.000000   \n",
       "75%         0.000000         0.000000  ...       2.00000          0.693147   \n",
       "max         4.836282         1.000000  ...      73.00000          8.116716   \n",
       "\n",
       "          castNumber  companiesNumber  averageRating  externalLinks  \\\n",
       "count  148624.000000    148624.000000  148624.000000  148624.000000   \n",
       "mean        2.373268         1.315607       6.873388       0.842966   \n",
       "std         1.070420         0.920745       1.348889       1.049074   \n",
       "min         0.000000         0.000000       1.000000       0.000000   \n",
       "25%         1.791759         0.693147       6.100000       0.000000   \n",
       "50%         2.564949         1.098612       7.100000       0.693147   \n",
       "75%         3.091042         1.791759       7.800000       1.386294   \n",
       "max         8.440096         6.347389      10.000000       6.359574   \n",
       "\n",
       "       writerCredits  directorsCredits    quotesTotal      has_award  \n",
       "count  148624.000000     148624.000000  148624.000000  148624.000000  \n",
       "mean        0.867662          0.606135       0.218909       0.078352  \n",
       "std         0.662543          0.345369       0.636980       0.268726  \n",
       "min         0.000000          0.000000       0.000000       0.000000  \n",
       "25%         0.000000          0.693147       0.000000       0.000000  \n",
       "50%         0.693147          0.693147       0.000000       0.000000  \n",
       "75%         1.386294          0.693147       0.000000       0.000000  \n",
       "max         3.951244          4.077537       5.883322       1.000000  \n",
       "\n",
       "[8 rows x 21 columns]"
      ]
     },
     "execution_count": 32,
     "metadata": {},
     "output_type": "execute_result"
    }
   ],
   "source": [
    "df.describe()"
   ]
  },
  {
   "cell_type": "code",
   "execution_count": 33,
   "metadata": {},
   "outputs": [
    {
     "data": {
      "text/plain": [
       "startYear               int64\n",
       "runtimeMinutes        float64\n",
       "awardWins             float64\n",
       "numVotes              float64\n",
       "totalImages           float64\n",
       "totalVideos           float64\n",
       "totalCredits            int64\n",
       "criticReviewsTotal    float64\n",
       "AwNmExWins            float64\n",
       "canHaveEpisodes         int64\n",
       "isAdult                 int64\n",
       "numRegions              int64\n",
       "userReviewsTotal      float64\n",
       "castNumber            float64\n",
       "companiesNumber       float64\n",
       "averageRating         float64\n",
       "externalLinks         float64\n",
       "writerCredits         float64\n",
       "directorsCredits      float64\n",
       "quotesTotal           float64\n",
       "has_award               int64\n",
       "dtype: object"
      ]
     },
     "execution_count": 33,
     "metadata": {},
     "output_type": "execute_result"
    }
   ],
   "source": [
    "df.dtypes"
   ]
  },
  {
   "cell_type": "code",
   "execution_count": 34,
   "metadata": {},
   "outputs": [],
   "source": [
    "from sklearn.model_selection import train_test_split, cross_val_score "
   ]
  },
  {
   "cell_type": "code",
   "execution_count": 35,
   "metadata": {},
   "outputs": [],
   "source": [
    "df = df.drop(columns=['awardWins'])"
   ]
  },
  {
   "cell_type": "code",
   "execution_count": 36,
   "metadata": {},
   "outputs": [],
   "source": [
    "X = df.drop(columns=['has_award'])\n",
    "y = df['has_award']"
   ]
  },
  {
   "cell_type": "code",
   "execution_count": 37,
   "metadata": {},
   "outputs": [],
   "source": [
    "X_train, X_test, y_train, y_test = train_test_split(X, y, test_size=0.3, random_state=100, \n",
    "                                                    stratify=y)"
   ]
  },
  {
   "cell_type": "code",
   "execution_count": 38,
   "metadata": {},
   "outputs": [],
   "source": [
    "from sklearn.preprocessing import StandardScaler, MinMaxScaler\n",
    "norm = MinMaxScaler()\n",
    "norm.fit(X_train)\n",
    "\n",
    "X_train = norm.transform(X_train)\n",
    "X_test = norm.transform(X_test)"
   ]
  },
  {
   "cell_type": "code",
   "execution_count": 39,
   "metadata": {},
   "outputs": [
    {
     "data": {
      "text/plain": [
       "Counter({0: 95885, 1: 8151})"
      ]
     },
     "execution_count": 39,
     "metadata": {},
     "output_type": "execute_result"
    }
   ],
   "source": [
    "ctr = Counter(y_train)\n",
    "ctr"
   ]
  },
  {
   "cell_type": "code",
   "execution_count": 40,
   "metadata": {},
   "outputs": [
    {
     "data": {
      "image/png": "[encoded data removed]",
      "text/plain": [
       "<Figure size 600x400 with 1 Axes>"
      ]
     },
     "metadata": {},
     "output_type": "display_data"
    }
   ],
   "source": [
    "import matplotlib.pyplot as plt\n",
    "\n",
    "# Supponiamo che ctr = {False: 138704, True: 10827}\n",
    "ctr = {False: 138704, True: 10827}\n",
    "\n",
    "labels = ['False', 'True']               # Etichette leggibili\n",
    "values = [ctr[False], ctr[True]]         # Valori ordinati secondo le etichette\n",
    "colors = ['orange', 'black']             # Colori coerenti con le etichette\n",
    "\n",
    "total = sum(values)                      # Calcolo del totale\n",
    "\n",
    "plt.figure(figsize=(6, 4))\n",
    "bars = plt.bar(labels, values, color=colors)\n",
    "\n",
    "# Etichette sopra le barre con percentuale\n",
    "for bar, val in zip(bars, values):\n",
    "    yval = bar.get_height()\n",
    "    percent = (val / total) * 100\n",
    "    plt.text(bar.get_x() + bar.get_width()/2.0, yval + total * 0.01, f'{percent:.0f}%', ha='center', va='bottom')\n",
    "\n",
    "plt.title('Classes Frequencies')\n",
    "plt.ylabel('Count')\n",
    "plt.ylim(0, max(values) * 1.2)\n",
    "\n",
    "plt.tight_layout()\n",
    "plt.show()\n",
    "\n",
    "\n"
   ]
  },
  {
   "cell_type": "code",
   "execution_count": 41,
   "metadata": {},
   "outputs": [
    {
     "name": "stdout",
     "output_type": "stream",
     "text": [
      "Accuracy 0.9155602404234323\n",
      "F1-score [0.9542966  0.44607915]\n",
      "              precision    recall  f1-score   support\n",
      "\n",
      "           0       0.95      0.96      0.95     41094\n",
      "           1       0.46      0.43      0.45      3494\n",
      "\n",
      "    accuracy                           0.92     44588\n",
      "   macro avg       0.71      0.70      0.70     44588\n",
      "weighted avg       0.91      0.92      0.91     44588\n",
      "\n"
     ]
    }
   ],
   "source": [
    "# Faccio il decision tree (SENZA OVERSAMPLING)\n",
    "from sklearn.tree import DecisionTreeClassifier\n",
    "from sklearn.metrics import accuracy_score, f1_score, classification_report\n",
    "\n",
    "clf = DecisionTreeClassifier(min_samples_leaf=3, random_state=42)\n",
    "clf.fit(X_train, y_train)\n",
    "\n",
    "y_pred0 = clf.predict(X_test)\n",
    "\n",
    "y_val_pred_proba_og = clf.predict_proba(X_test)\n",
    "\n",
    "print('Accuracy %s' % accuracy_score(y_test, y_pred0))\n",
    "print('F1-score %s' % f1_score(y_test, y_pred0, average=None))\n",
    "print(classification_report(y_test, y_pred0))"
   ]
  },
  {
   "cell_type": "markdown",
   "metadata": {},
   "source": [
    "# Tutti i metodi applicabili sono stati applicati uno per uno di seguito, con parametri standard"
   ]
  },
  {
   "cell_type": "markdown",
   "metadata": {},
   "source": [
    "# Undersampling"
   ]
  },
  {
   "cell_type": "code",
   "execution_count": null,
   "metadata": {},
   "outputs": [],
   "source": [
    "# !pip install imblearn"
   ]
  },
  {
   "cell_type": "code",
   "execution_count": 42,
   "metadata": {},
   "outputs": [],
   "source": [
    "from imblearn.under_sampling import RandomUnderSampler\n",
    "from imblearn.under_sampling import CondensedNearestNeighbour\n",
    "from imblearn.under_sampling import TomekLinks\n",
    "from imblearn.under_sampling import EditedNearestNeighbours"
   ]
  },
  {
   "cell_type": "markdown",
   "metadata": {},
   "source": [
    "### RandomUnderSampler"
   ]
  },
  {
   "cell_type": "code",
   "execution_count": null,
   "metadata": {},
   "outputs": [],
   "source": [
    "rus = RandomUnderSampler(random_state=42)\n",
    "X_res, y_res = rus.fit_resample(X_train, y_train)\n",
    "print('Resampled dataset shape %s' % Counter(y_res))"
   ]
  },
  {
   "cell_type": "code",
   "execution_count": null,
   "metadata": {},
   "outputs": [],
   "source": [
    "def plot_pca(X_pca, y_train):\n",
    "    plt.scatter(X_pca[:, 0], X_pca[:, 1], c=y_train, cmap=plt.cm.prism, edgecolor='k', alpha=0.7)\n",
    "    plt.show()"
   ]
  },
  {
   "cell_type": "code",
   "execution_count": null,
   "metadata": {},
   "outputs": [],
   "source": [
    "from sklearn.decomposition import PCA\n",
    "pca = PCA(n_components=2)\n",
    "pca.fit(X_train)\n",
    "X_pca = pca.transform(X_res)\n",
    "plot_pca(X_pca, y_res)"
   ]
  },
  {
   "cell_type": "code",
   "execution_count": null,
   "metadata": {},
   "outputs": [],
   "source": [
    "# Faccio il decision tree\n",
    "from sklearn.tree import DecisionTreeClassifier\n",
    "from sklearn.metrics import accuracy_score, f1_score, classification_report\n",
    "\n",
    "# fit\n",
    "clf = DecisionTreeClassifier(min_samples_leaf=3, random_state=42)\n",
    "clf.fit(X_res, y_res)\n",
    "\n",
    "# predict\n",
    "y_pred = clf.predict(X_test)\n",
    "\n",
    "# Return probability estimates for the test data X.\n",
    "y_val_pred_proba = clf.predict_proba(X_test)\n",
    "\n",
    "print(classification_report(y_test, y_pred))"
   ]
  },
  {
   "cell_type": "markdown",
   "metadata": {},
   "source": [
    "### Tomek Links"
   ]
  },
  {
   "cell_type": "code",
   "execution_count": null,
   "metadata": {},
   "outputs": [],
   "source": [
    "tl = TomekLinks()\n",
    "X_res, y_res = tl.fit_resample(X_train, y_train)\n",
    "print('Resampled dataset shape %s' % Counter(y_res))"
   ]
  },
  {
   "cell_type": "code",
   "execution_count": null,
   "metadata": {},
   "outputs": [],
   "source": [
    "pca = PCA(n_components=2)\n",
    "pca.fit(X_train)\n",
    "X_pca = pca.transform(X_res)\n",
    "plot_pca(X_pca, y_res)"
   ]
  },
  {
   "cell_type": "code",
   "execution_count": null,
   "metadata": {},
   "outputs": [],
   "source": [
    "# Faccio il decision tree\n",
    "from sklearn.tree import DecisionTreeClassifier\n",
    "from sklearn.metrics import accuracy_score, f1_score, classification_report\n",
    "\n",
    "# fit\n",
    "clf = DecisionTreeClassifier(min_samples_leaf=3, random_state=42)\n",
    "clf.fit(X_res, y_res)\n",
    "\n",
    "# predict\n",
    "y_pred = clf.predict(X_test)\n",
    "\n",
    "# Return probability estimates for the test data X.\n",
    "y_val_pred_proba = clf.predict_proba(X_test)\n",
    "\n",
    "print(classification_report(y_test, y_pred))"
   ]
  },
  {
   "cell_type": "markdown",
   "metadata": {},
   "source": [
    "### Edited Nearest Neighbors"
   ]
  },
  {
   "cell_type": "code",
   "execution_count": null,
   "metadata": {},
   "outputs": [],
   "source": [
    "enn = EditedNearestNeighbours()\n",
    "X_res, y_res = enn.fit_resample(X_train, y_train)\n",
    "print('Resampled dataset shape %s' % Counter(y_res))"
   ]
  },
  {
   "cell_type": "code",
   "execution_count": null,
   "metadata": {},
   "outputs": [],
   "source": [
    "pca = PCA(n_components=2)\n",
    "pca.fit(X_train)\n",
    "X_pca = pca.transform(X_res)\n",
    "plot_pca(X_pca, y_res)"
   ]
  },
  {
   "cell_type": "code",
   "execution_count": null,
   "metadata": {},
   "outputs": [],
   "source": [
    "# Faccio il decision tree\n",
    "from sklearn.tree import DecisionTreeClassifier\n",
    "from sklearn.metrics import accuracy_score, f1_score, classification_report\n",
    "\n",
    "# fit\n",
    "clf = DecisionTreeClassifier(min_samples_leaf=3, random_state=42)\n",
    "clf.fit(X_res, y_res)\n",
    "\n",
    "# predict\n",
    "y_pred = clf.predict(X_test)\n",
    "\n",
    "# Return probability estimates for the test data X.\n",
    "y_val_pred_proba = clf.predict_proba(X_test)\n",
    "\n",
    "print(classification_report(y_test, y_pred))"
   ]
  },
  {
   "cell_type": "markdown",
   "metadata": {},
   "source": [
    "### Cluster Centroids"
   ]
  },
  {
   "cell_type": "code",
   "execution_count": null,
   "metadata": {},
   "outputs": [],
   "source": [
    "from sklearn.cluster import MiniBatchKMeans\n",
    "from imblearn.under_sampling import ClusterCentroids"
   ]
  },
  {
   "cell_type": "code",
   "execution_count": null,
   "metadata": {},
   "outputs": [],
   "source": [
    "cc = ClusterCentroids(\n",
    "    estimator=MiniBatchKMeans(n_init=1, random_state=0), random_state=42\n",
    ")\n",
    "X_res, y_res = cc.fit_resample(X_train, y_train)\n",
    "print('Resampled dataset shape %s' % Counter(y_res))"
   ]
  },
  {
   "cell_type": "code",
   "execution_count": null,
   "metadata": {},
   "outputs": [],
   "source": [
    "pca = PCA(n_components=2)\n",
    "pca.fit(X_train)\n",
    "X_pca = pca.transform(X_res)\n",
    "plot_pca(X_pca, y_res)"
   ]
  },
  {
   "cell_type": "code",
   "execution_count": null,
   "metadata": {},
   "outputs": [],
   "source": [
    "# Faccio il decision tree\n",
    "from sklearn.tree import DecisionTreeClassifier\n",
    "from sklearn.metrics import accuracy_score, f1_score, classification_report\n",
    "\n",
    "# fit\n",
    "clf = DecisionTreeClassifier(min_samples_leaf=3, random_state=42)\n",
    "clf.fit(X_res, y_res)\n",
    "\n",
    "# predict\n",
    "y_pred = clf.predict(X_test)\n",
    "\n",
    "# Return probability estimates for the test data X.\n",
    "y_val_pred_proba = clf.predict_proba(X_test)\n",
    "\n",
    "print(classification_report(y_test, y_pred))"
   ]
  },
  {
   "cell_type": "markdown",
   "metadata": {},
   "source": [
    "# Oversampling"
   ]
  },
  {
   "cell_type": "code",
   "execution_count": 43,
   "metadata": {},
   "outputs": [],
   "source": [
    "from imblearn.over_sampling import RandomOverSampler\n",
    "from imblearn.over_sampling import SMOTE\n",
    "from imblearn.over_sampling import ADASYN"
   ]
  },
  {
   "cell_type": "markdown",
   "metadata": {},
   "source": [
    "### RandomOverSampler"
   ]
  },
  {
   "cell_type": "code",
   "execution_count": null,
   "metadata": {},
   "outputs": [],
   "source": [
    "ros = RandomOverSampler(random_state=42)\n",
    "X_res, y_res = ros.fit_resample(X_train, y_train)\n",
    "print('Resampled dataset shape %s' % Counter(y_res))"
   ]
  },
  {
   "cell_type": "code",
   "execution_count": null,
   "metadata": {},
   "outputs": [],
   "source": [
    "pca = PCA(n_components=2)\n",
    "pca.fit(X_train)\n",
    "X_pca = pca.transform(X_res)\n",
    "plot_pca(X_pca, y_res)"
   ]
  },
  {
   "cell_type": "code",
   "execution_count": null,
   "metadata": {},
   "outputs": [],
   "source": [
    "# Faccio il decision tree\n",
    "from sklearn.tree import DecisionTreeClassifier\n",
    "from sklearn.metrics import accuracy_score, f1_score, classification_report\n",
    "\n",
    "# fit\n",
    "clf = DecisionTreeClassifier(min_samples_leaf=3, random_state=42)\n",
    "clf.fit(X_res, y_res)\n",
    "\n",
    "# predict\n",
    "y_pred = clf.predict(X_test)\n",
    "\n",
    "# Return probability estimates for the test data X.\n",
    "y_val_pred_proba = clf.predict_proba(X_test)\n",
    "\n",
    "print(classification_report(y_test, y_pred))"
   ]
  },
  {
   "cell_type": "markdown",
   "metadata": {},
   "source": [
    "### SMOTE"
   ]
  },
  {
   "cell_type": "code",
   "execution_count": null,
   "metadata": {},
   "outputs": [],
   "source": [
    "sm = SMOTE(random_state=42)\n",
    "X_res, y_res = sm.fit_resample(X_train, y_train)\n",
    "print('Resampled dataset shape %s' % Counter(y_res))"
   ]
  },
  {
   "cell_type": "code",
   "execution_count": null,
   "metadata": {},
   "outputs": [],
   "source": [
    "pca = PCA(n_components=2)\n",
    "pca.fit(X_train)\n",
    "X_pca = pca.transform(X_res)\n",
    "plot_pca(X_pca, y_res)"
   ]
  },
  {
   "cell_type": "code",
   "execution_count": null,
   "metadata": {},
   "outputs": [],
   "source": [
    "# Faccio il decision tree\n",
    "from sklearn.tree import DecisionTreeClassifier\n",
    "from sklearn.metrics import accuracy_score, f1_score, classification_report\n",
    "\n",
    "# fit\n",
    "clf = DecisionTreeClassifier(min_samples_leaf=3, random_state=42)\n",
    "clf.fit(X_res, y_res)\n",
    "\n",
    "# predict\n",
    "y_pred = clf.predict(X_test)\n",
    "\n",
    "# Return probability estimates for the test data X.\n",
    "y_val_pred_proba = clf.predict_proba(X_test)\n",
    "\n",
    "print(classification_report(y_test, y_pred))"
   ]
  },
  {
   "cell_type": "markdown",
   "metadata": {},
   "source": [
    "### ADASYN (>>>SMOTE)"
   ]
  },
  {
   "cell_type": "code",
   "execution_count": null,
   "metadata": {},
   "outputs": [],
   "source": [
    "ada = ADASYN(random_state=42)\n",
    "X_res, y_res = ada.fit_resample(X_train, y_train)\n",
    "print('Resampled dataset shape %s' % Counter(y_res))"
   ]
  },
  {
   "cell_type": "code",
   "execution_count": null,
   "metadata": {},
   "outputs": [],
   "source": [
    "pca = PCA(n_components=2)\n",
    "pca.fit(X_train)\n",
    "X_pca = pca.transform(X_res)\n",
    "plot_pca(X_pca, y_res)"
   ]
  },
  {
   "cell_type": "code",
   "execution_count": null,
   "metadata": {},
   "outputs": [],
   "source": [
    "# Faccio il decision tree\n",
    "from sklearn.tree import DecisionTreeClassifier\n",
    "from sklearn.metrics import accuracy_score, f1_score, classification_report\n",
    "\n",
    "# fit\n",
    "clf = DecisionTreeClassifier(min_samples_leaf=3, random_state=42)\n",
    "clf.fit(X_res, y_res)\n",
    "\n",
    "# predict\n",
    "y_pred = clf.predict(X_test)\n",
    "\n",
    "# Return probability estimates for the test data X.\n",
    "y_val_pred_proba = clf.predict_proba(X_test)\n",
    "\n",
    "print(classification_report(y_test, y_pred))"
   ]
  },
  {
   "cell_type": "markdown",
   "metadata": {},
   "source": [
    "# Proviamo una combinazione di RandomUndersampling e ENN"
   ]
  },
  {
   "cell_type": "code",
   "execution_count": null,
   "metadata": {},
   "outputs": [],
   "source": [
    "rus = RandomUnderSampler(random_state=42)\n",
    "X_res, y_res = rus.fit_resample(X_train, y_train)\n",
    "print('Resampled dataset shape %s' % Counter(y_res))"
   ]
  },
  {
   "cell_type": "code",
   "execution_count": null,
   "metadata": {},
   "outputs": [],
   "source": [
    "enn = EditedNearestNeighbours()\n",
    "X_res, y_res = enn.fit_resample(X_res, y_res)\n",
    "print('Resampled dataset shape %s' % Counter(y_res))"
   ]
  },
  {
   "cell_type": "code",
   "execution_count": null,
   "metadata": {},
   "outputs": [],
   "source": [
    "# Faccio il decision tree (DOPO LE TRASFORMAZIONI)\n",
    "from sklearn.tree import DecisionTreeClassifier\n",
    "from sklearn.metrics import accuracy_score, f1_score, classification_report\n",
    "\n",
    "# fit\n",
    "clf = DecisionTreeClassifier(min_samples_leaf=3, random_state=42)\n",
    "clf.fit(X_res, y_res)\n",
    "\n",
    "# predict\n",
    "y_pred = clf.predict(X_test)\n",
    "\n",
    "# Return probability estimates for the test data X.\n",
    "y_val_pred_proba = clf.predict_proba(X_test)\n",
    "\n",
    "print(classification_report(y_test, y_pred))"
   ]
  },
  {
   "cell_type": "code",
   "execution_count": null,
   "metadata": {},
   "outputs": [],
   "source": [
    "import matplotlib.pyplot as plt\n",
    "from sklearn.metrics import roc_curve, roc_auc_score\n",
    "\n",
    "# -------- ROC PRIMA DELLA TRASFORMAZIONE --------\n",
    "# Classe 1\n",
    "fpr_1_og, tpr_1_og, _ = roc_curve(y_test, y_val_pred_proba_og[:, 1])\n",
    "auc_1_og = roc_auc_score(y_test, y_val_pred_proba_og[:, 1])\n",
    "\n",
    "# Classe 0\n",
    "y_test_inverted = 1 - y_test\n",
    "fpr_0_og, tpr_0_og, _ = roc_curve(y_test_inverted, y_val_pred_proba_og[:, 0])\n",
    "auc_0_og = roc_auc_score(y_test_inverted, y_val_pred_proba_og[:, 0])\n",
    "\n",
    "# -------- ROC DOPO LA TRASFORMAZIONE --------\n",
    "# Classe 1\n",
    "fpr_1, tpr_1, _ = roc_curve(y_test, y_val_pred_proba[:, 1])\n",
    "auc_1 = roc_auc_score(y_test, y_val_pred_proba[:, 1])\n",
    "\n",
    "# Classe 0\n",
    "fpr_0, tpr_0, _ = roc_curve(y_test_inverted, y_val_pred_proba[:, 0])\n",
    "auc_0 = roc_auc_score(y_test_inverted, y_val_pred_proba[:, 0])\n",
    "\n",
    "# -------- PLOT SUBPLOTS --------\n",
    "fig, axes = plt.subplots(1, 2, figsize=(16, 6))\n",
    "\n",
    "# Plot originale\n",
    "axes[0].plot(fpr_1_og, tpr_1_og, label=f\"Classe 1 (AUC = {auc_1_og:.2f})\", color='blue')\n",
    "axes[0].plot(fpr_0_og, tpr_0_og, label=f\"Classe 0 (AUC = {auc_0_og:.2f})\", color='green')\n",
    "axes[0].plot([0, 1], [0, 1], 'k--', label=\"Random Guessing\")\n",
    "axes[0].set_title(\"ROC Curve (Prima delle trasformazioni)\")\n",
    "axes[0].set_xlabel(\"False Positive Rate\")\n",
    "axes[0].set_ylabel(\"True Positive Rate\")\n",
    "axes[0].legend(loc=\"lower right\")\n",
    "axes[0].grid()\n",
    "\n",
    "# Plot trasformato\n",
    "axes[1].plot(fpr_1, tpr_1, label=f\"Classe 1 (AUC = {auc_1:.2f})\", color='blue')\n",
    "axes[1].plot(fpr_0, tpr_0, label=f\"Classe 0 (AUC = {auc_0:.2f})\", color='green')\n",
    "axes[1].plot([0, 1], [0, 1], 'k--', label=\"Random Guessing\")\n",
    "axes[1].set_title(\"ROC Curve (Dopo le trasformazioni)\")\n",
    "axes[1].set_xlabel(\"False Positive Rate\")\n",
    "axes[1].set_ylabel(\"True Positive Rate\")\n",
    "axes[1].legend(loc=\"lower right\")\n",
    "axes[1].grid()\n",
    "\n",
    "plt.tight_layout()\n",
    "plt.show()\n",
    "\n"
   ]
  },
  {
   "cell_type": "markdown",
   "metadata": {},
   "source": [
    "# Balancing at the Algorithm Level"
   ]
  },
  {
   "cell_type": "markdown",
   "metadata": {},
   "source": [
    "### è stata eseguita una grid-search dei pesi delle classi, e riportato il risultato migliore"
   ]
  },
  {
   "cell_type": "code",
   "execution_count": null,
   "metadata": {},
   "outputs": [],
   "source": [
    "from sklearn.model_selection import GridSearchCV\n",
    "from sklearn.metrics import classification_report\n",
    "\n",
    "# Impostare i parametri da esplorare per la GridSearch\n",
    "param_grid = {\n",
    "    'class_weight': [\n",
    "        {0: 1, 1: 1},      # Pesatura bilanciata tra le classi\n",
    "        {0: 2, 1: 1},      # Più peso alla classe 0\n",
    "        {0: 3, 1: 1},      # Ancora più peso alla classe 0\n",
    "        {0: 1, 1: 2},      # Più peso alla classe 1\n",
    "        {0: 1, 1: 3},      # Ancora più peso alla classe 1\n",
    "    ],\n",
    "    'min_samples_leaf': [1, 2, 3, 5],  # Diversi valori per min_samples_leaf\n",
    "}\n",
    "\n",
    "# Inizializzare il modello\n",
    "clf = DecisionTreeClassifier(random_state=42)\n",
    "\n",
    "# Inizializzare la GridSearchCV\n",
    "grid_search = GridSearchCV(clf, param_grid, cv=5, n_jobs=-1, scoring='accuracy')\n",
    "\n",
    "# Eseguire la GridSearch\n",
    "grid_search.fit(X_train, y_train)\n",
    "\n",
    "# Ottenere i migliori parametri\n",
    "print(\"Migliori parametri trovati: \", grid_search.best_params_)\n",
    "\n",
    "# Prevedere sui dati di test con il miglior modello\n",
    "y_pred = grid_search.best_estimator_.predict(X_test)\n",
    "\n",
    "y_pred_proba = grid_search.best_estimator_.predict_proba(X_test)\n",
    "\n",
    "# Stampare il classification report per il miglior modello\n",
    "print(\"Classification Report:\\n\", classification_report(y_test, y_pred))\n"
   ]
  },
  {
   "cell_type": "code",
   "execution_count": null,
   "metadata": {},
   "outputs": [],
   "source": [
    "import matplotlib.pyplot as plt\n",
    "from sklearn.metrics import roc_curve, roc_auc_score\n",
    "\n",
    "# -------- ROC PRIMA DELLA TRASFORMAZIONE --------\n",
    "# Classe 1\n",
    "fpr_1_og, tpr_1_og, _ = roc_curve(y_test, y_val_pred_proba_og[:, 1])\n",
    "auc_1_og = roc_auc_score(y_test, y_val_pred_proba_og[:, 1])\n",
    "\n",
    "# Classe 0\n",
    "y_test_inverted = 1 - y_test\n",
    "fpr_0_og, tpr_0_og, _ = roc_curve(y_test_inverted, y_val_pred_proba_og[:, 0])\n",
    "auc_0_og = roc_auc_score(y_test_inverted, y_val_pred_proba_og[:, 0])\n",
    "\n",
    "# -------- ROC DOPO LA TRASFORMAZIONE --------\n",
    "# Classe 1\n",
    "fpr_1, tpr_1, _ = roc_curve(y_test, y_val_pred_proba[:, 1])\n",
    "auc_1 = roc_auc_score(y_test, y_val_pred_proba[:, 1])\n",
    "\n",
    "# Classe 0\n",
    "fpr_0, tpr_0, _ = roc_curve(y_test_inverted, y_val_pred_proba[:, 0])\n",
    "auc_0 = roc_auc_score(y_test_inverted, y_val_pred_proba[:, 0])\n",
    "\n",
    "# -------- PLOT SUBPLOTS --------\n",
    "fig, axes = plt.subplots(1, 2, figsize=(16, 6))\n",
    "\n",
    "# Plot originale\n",
    "axes[0].plot(fpr_1_og, tpr_1_og, label=f\"Classe 1 (AUC = {auc_1_og:.2f})\", color='blue')\n",
    "axes[0].plot(fpr_0_og, tpr_0_og, label=f\"Classe 0 (AUC = {auc_0_og:.2f})\", color='green')\n",
    "axes[0].plot([0, 1], [0, 1], 'k--', label=\"Random Guessing\")\n",
    "axes[0].set_title(\"ROC Curve (Prima delle trasformazioni)\")\n",
    "axes[0].set_xlabel(\"False Positive Rate\")\n",
    "axes[0].set_ylabel(\"True Positive Rate\")\n",
    "axes[0].legend(loc=\"lower right\")\n",
    "axes[0].grid()\n",
    "\n",
    "# Plot trasformato\n",
    "axes[1].plot(fpr_1, tpr_1, label=f\"Classe 1 (AUC = {auc_1:.2f})\", color='blue')\n",
    "axes[1].plot(fpr_0, tpr_0, label=f\"Classe 0 (AUC = {auc_0:.2f})\", color='green')\n",
    "axes[1].plot([0, 1], [0, 1], 'k--', label=\"Random Guessing\")\n",
    "axes[1].set_title(\"ROC Curve (Dopo le trasformazioni)\")\n",
    "axes[1].set_xlabel(\"False Positive Rate\")\n",
    "axes[1].set_ylabel(\"True Positive Rate\")\n",
    "axes[1].legend(loc=\"lower right\")\n",
    "axes[1].grid()\n",
    "\n",
    "plt.tight_layout()\n",
    "plt.show()\n",
    "\n"
   ]
  },
  {
   "cell_type": "markdown",
   "metadata": {},
   "source": [
    "## Proviamo a fare prima oversampling e poi undersampling"
   ]
  },
  {
   "cell_type": "markdown",
   "metadata": {},
   "source": [
    "#### Prima ADASYN, poi, per undersampling della classe maggioritaria mantenendo i campioni più informativi, Tomek, infine ENN per pulire il rumore al confine tra le due classi"
   ]
  },
  {
   "attachments": {
    "image.png": {
     "image/png": "[encoded data removed]"
    }
   },
   "cell_type": "markdown",
   "metadata": {},
   "source": [
    "![image.png](attachment:image.png)"
   ]
  },
  {
   "cell_type": "code",
   "execution_count": 44,
   "metadata": {},
   "outputs": [
    {
     "name": "stdout",
     "output_type": "stream",
     "text": [
      "Resampled dataset shape Counter({0: 95885, 1: 95510})\n"
     ]
    }
   ],
   "source": [
    "ada = ADASYN(random_state=42)\n",
    "X_res, y_res = ada.fit_resample(X_train, y_train)\n",
    "print('Resampled dataset shape %s' % Counter(y_res))"
   ]
  },
  {
   "cell_type": "code",
   "execution_count": 45,
   "metadata": {},
   "outputs": [
    {
     "name": "stdout",
     "output_type": "stream",
     "text": [
      "Resampled dataset shape Counter({0: 95850, 1: 95510})\n"
     ]
    }
   ],
   "source": [
    "tl = TomekLinks()\n",
    "X_res, y_res = tl.fit_resample(X_res, y_res)\n",
    "print('Resampled dataset shape %s' % Counter(y_res))"
   ]
  },
  {
   "cell_type": "code",
   "execution_count": 46,
   "metadata": {},
   "outputs": [
    {
     "name": "stdout",
     "output_type": "stream",
     "text": [
      "Resampled dataset shape Counter({1: 95510, 0: 77960})\n"
     ]
    }
   ],
   "source": [
    "enn = EditedNearestNeighbours()\n",
    "X_res, y_res = enn.fit_resample(X_res, y_res)\n",
    "print('Resampled dataset shape %s' % Counter(y_res))"
   ]
  },
  {
   "cell_type": "code",
   "execution_count": 47,
   "metadata": {},
   "outputs": [
    {
     "name": "stdout",
     "output_type": "stream",
     "text": [
      "              precision    recall  f1-score   support\n",
      "\n",
      "           0       0.97      0.90      0.93     41094\n",
      "           1       0.36      0.70      0.48      3494\n",
      "\n",
      "    accuracy                           0.88     44588\n",
      "   macro avg       0.67      0.80      0.71     44588\n",
      "weighted avg       0.92      0.88      0.90     44588\n",
      "\n"
     ]
    }
   ],
   "source": [
    "# Faccio il decision tree (DOPO LE TRASFORMAZIONI)\n",
    "from sklearn.tree import DecisionTreeClassifier\n",
    "from sklearn.metrics import accuracy_score, f1_score, classification_report\n",
    "\n",
    "# fit\n",
    "clf = DecisionTreeClassifier(min_samples_leaf=3, random_state=42)\n",
    "clf.fit(X_res, y_res)\n",
    "\n",
    "# predict\n",
    "y_pred = clf.predict(X_test)\n",
    "\n",
    "# Return probability estimates for the test data X.\n",
    "y_val_pred_proba = clf.predict_proba(X_test)\n",
    "\n",
    "print(classification_report(y_test, y_pred))"
   ]
  },
  {
   "cell_type": "code",
   "execution_count": 48,
   "metadata": {},
   "outputs": [
    {
     "data": {
      "image/png": "[encoded data removed]",
      "text/plain": [
       "<Figure size 1600x600 with 2 Axes>"
      ]
     },
     "metadata": {},
     "output_type": "display_data"
    }
   ],
   "source": [
    "import matplotlib.pyplot as plt\n",
    "from sklearn.metrics import roc_curve, roc_auc_score\n",
    "\n",
    "# -------- ROC PRIMA DELLA TRASFORMAZIONE --------\n",
    "# Classe 1\n",
    "fpr_1_og, tpr_1_og, _ = roc_curve(y_test, y_val_pred_proba_og[:, 1])\n",
    "auc_1_og = roc_auc_score(y_test, y_val_pred_proba_og[:, 1])\n",
    "\n",
    "# Classe 0\n",
    "y_test_inverted = 1 - y_test\n",
    "fpr_0_og, tpr_0_og, _ = roc_curve(y_test_inverted, y_val_pred_proba_og[:, 0])\n",
    "auc_0_og = roc_auc_score(y_test_inverted, y_val_pred_proba_og[:, 0])\n",
    "\n",
    "# -------- ROC DOPO LA TRASFORMAZIONE --------\n",
    "# Classe 1\n",
    "fpr_1, tpr_1, _ = roc_curve(y_test, y_val_pred_proba[:, 1])\n",
    "auc_1 = roc_auc_score(y_test, y_val_pred_proba[:, 1])\n",
    "\n",
    "# Classe 0\n",
    "fpr_0, tpr_0, _ = roc_curve(y_test_inverted, y_val_pred_proba[:, 0])\n",
    "auc_0 = roc_auc_score(y_test_inverted, y_val_pred_proba[:, 0])\n",
    "\n",
    "# -------- PLOT SUBPLOTS --------\n",
    "fig, axes = plt.subplots(1, 2, figsize=(16, 6))\n",
    "\n",
    "# Plot originale\n",
    "axes[0].plot(fpr_1_og, tpr_1_og, label=f\"Classe 1 (AUC = {auc_1_og:.2f})\", color='black')\n",
    "axes[0].plot(fpr_0_og, tpr_0_og, label=f\"Classe 0 (AUC = {auc_0_og:.2f})\", color='orange')\n",
    "axes[0].plot([0, 1], [0, 1], 'k--', label=\"Random Guessing\")\n",
    "axes[0].set_title(\"ROC Curve (Before Transformations)\")\n",
    "axes[0].set_xlabel(\"False Positive Rate\")\n",
    "axes[0].set_ylabel(\"True Positive Rate\")\n",
    "axes[0].legend(loc=\"lower right\")\n",
    "axes[0].grid()\n",
    "\n",
    "# Plot trasformato\n",
    "axes[1].plot(fpr_1, tpr_1, label=f\"Classe 1 (AUC = {auc_1:.2f})\", color='black')\n",
    "axes[1].plot(fpr_0, tpr_0, label=f\"Classe 0 (AUC = {auc_0:.2f})\", color='orange')\n",
    "axes[1].plot([0, 1], [0, 1], 'k--', label=\"Random Guessing\")\n",
    "axes[1].set_title(\"ROC Curve (After Transformations)\")\n",
    "axes[1].set_xlabel(\"False Positive Rate\")\n",
    "axes[1].set_ylabel(\"True Positive Rate\")\n",
    "axes[1].legend(loc=\"lower right\")\n",
    "axes[1].grid()\n",
    "\n",
    "plt.tight_layout()\n",
    "plt.show()\n",
    "\n"
   ]
  },
  {
   "cell_type": "markdown",
   "metadata": {},
   "source": [
    "## Proviamo vari parametri per i metodi"
   ]
  },
  {
   "cell_type": "markdown",
   "metadata": {},
   "source": [
    "### Grid parametri di ADASYN (praticamente riporta il dataset senza oversampling)"
   ]
  },
  {
   "cell_type": "code",
   "execution_count": null,
   "metadata": {},
   "outputs": [],
   "source": [
    "from sklearn.tree import DecisionTreeClassifier\n",
    "from sklearn.model_selection import GridSearchCV\n",
    "from sklearn.metrics import classification_report\n",
    "from imblearn.over_sampling import ADASYN\n",
    "from imblearn.pipeline import Pipeline\n",
    "\n",
    "# Definisci il classificatore\n",
    "clf = DecisionTreeClassifier(min_samples_leaf=4, random_state=42)\n",
    "\n",
    "# Definisci l'oversampler\n",
    "adasyn = ADASYN(random_state=42)\n",
    "\n",
    "# Crea la pipeline\n",
    "pipeline = Pipeline([\n",
    "    ('adasyn', adasyn),\n",
    "    ('clf', clf)\n",
    "])\n",
    "\n",
    "# Definisci la griglia dei parametri\n",
    "param_grid = {\n",
    "    'adasyn__sampling_strategy': ['minority', 'not minority', 'not majority', 'all', 'auto'],\n",
    "    'adasyn__n_neighbors': [3, 5, 7]\n",
    "}\n",
    "\n",
    "# Imposta la GridSearchCV\n",
    "grid_search = GridSearchCV(\n",
    "    estimator=pipeline,\n",
    "    param_grid=param_grid,\n",
    "    scoring='f1_macro',\n",
    "    cv=5,\n",
    "    n_jobs=-1,\n",
    "    verbose=1\n",
    ")\n",
    "\n",
    "# Esegui la grid search\n",
    "grid_search.fit(X_train, y_train)\n",
    "\n",
    "# Stampa i migliori parametri\n",
    "print(\"Migliori parametri trovati:\")\n",
    "print(grid_search.best_params_)\n",
    "\n",
    "# Valuta il modello sui dati di test\n",
    "y_pred = grid_search.predict(X_test)\n",
    "print(\"Classification Report:\")\n",
    "print(classification_report(y_test, y_pred))\n"
   ]
  },
  {
   "cell_type": "code",
   "execution_count": null,
   "metadata": {},
   "outputs": [],
   "source": [
    "print('Resampled dataset shape %s' % Counter(y_res))"
   ]
  }
 ],
 "metadata": {
  "kernelspec": {
   "display_name": "Python 3",
   "language": "python",
   "name": "python3"
  },
  "language_info": {
   "codemirror_mode": {
    "name": "ipython",
    "version": 3
   },
   "file_extension": ".py",
   "mimetype": "text/x-python",
   "name": "python",
   "nbconvert_exporter": "python",
   "pygments_lexer": "ipython3",
   "version": "3.13.3"
  }
 },
 "nbformat": 4,
 "nbformat_minor": 2
}
