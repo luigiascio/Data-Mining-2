{
 "cells": [
  {
   "cell_type": "markdown",
   "metadata": {},
   "source": [
    "# Imbalanced Learning"
   ]
  },
  {
   "cell_type": "code",
   "execution_count": 1,
   "metadata": {},
   "outputs": [],
   "source": [
    "%matplotlib inline\n",
    "\n",
    "import numpy as np\n",
    "import pandas as pd\n",
    "import seaborn as sns\n",
    "import matplotlib.pyplot as plt\n",
    "\n",
    "from collections import Counter\n",
    "from collections import defaultdict"
   ]
  },
  {
   "cell_type": "markdown",
   "metadata": {},
   "source": [
    "### Chech imbalanced variables"
   ]
  },
  {
   "cell_type": "code",
   "execution_count": 19,
   "metadata": {},
   "outputs": [],
   "source": [
    "df = pd.read_csv('imbd_log.csv')"
   ]
  },
  {
   "cell_type": "code",
   "execution_count": 21,
   "metadata": {},
   "outputs": [
    {
     "data": {
      "text/plain": [
       "originalTitle          object\n",
       "rating                 object\n",
       "startYear               int64\n",
       "runtimeMinutes        float64\n",
       "awardWins             float64\n",
       "numVotes              float64\n",
       "totalImages           float64\n",
       "totalVideos           float64\n",
       "totalCredits            int64\n",
       "criticReviewsTotal    float64\n",
       "titleType              object\n",
       "AwNmExWins            float64\n",
       "canHaveEpisodes         int64\n",
       "isAdult                 int64\n",
       "numRegions              int64\n",
       "userReviewsTotal      float64\n",
       "countryOfOrigin        object\n",
       "genres                 object\n",
       "castNumber            float64\n",
       "companiesNumber       float64\n",
       "averageRating         float64\n",
       "regions                object\n",
       "externalLinks         float64\n",
       "writerCredits         float64\n",
       "directorsCredits      float64\n",
       "soundMixes             object\n",
       "quotesTotal           float64\n",
       "dtype: object"
      ]
     },
     "execution_count": 21,
     "metadata": {},
     "output_type": "execute_result"
    }
   ],
   "source": [
    "df.dtypes"
   ]
  },
  {
   "cell_type": "code",
   "execution_count": 23,
   "metadata": {},
   "outputs": [],
   "source": [
    "del df['originalTitle']\n",
    "del df['rating']\n",
    "del df['titleType']\n",
    "del df['countryOfOrigin']\n",
    "del df['genres']\n",
    "del df['regions']\n",
    "del df['soundMixes']"
   ]
  },
  {
   "cell_type": "code",
   "execution_count": 24,
   "metadata": {},
   "outputs": [
    {
     "data": {
      "text/html": [
       "<div>\n",
       "<style scoped>\n",
       "    .dataframe tbody tr th:only-of-type {\n",
       "        vertical-align: middle;\n",
       "    }\n",
       "\n",
       "    .dataframe tbody tr th {\n",
       "        vertical-align: top;\n",
       "    }\n",
       "\n",
       "    .dataframe thead th {\n",
       "        text-align: right;\n",
       "    }\n",
       "</style>\n",
       "<table border=\"1\" class=\"dataframe\">\n",
       "  <thead>\n",
       "    <tr style=\"text-align: right;\">\n",
       "      <th></th>\n",
       "      <th>startYear</th>\n",
       "      <th>runtimeMinutes</th>\n",
       "      <th>awardWins</th>\n",
       "      <th>numVotes</th>\n",
       "      <th>totalImages</th>\n",
       "      <th>totalVideos</th>\n",
       "      <th>totalCredits</th>\n",
       "      <th>criticReviewsTotal</th>\n",
       "      <th>AwNmExWins</th>\n",
       "      <th>canHaveEpisodes</th>\n",
       "      <th>isAdult</th>\n",
       "      <th>numRegions</th>\n",
       "      <th>userReviewsTotal</th>\n",
       "      <th>castNumber</th>\n",
       "      <th>companiesNumber</th>\n",
       "      <th>averageRating</th>\n",
       "      <th>externalLinks</th>\n",
       "      <th>writerCredits</th>\n",
       "      <th>directorsCredits</th>\n",
       "      <th>quotesTotal</th>\n",
       "    </tr>\n",
       "  </thead>\n",
       "  <tbody>\n",
       "    <tr>\n",
       "      <th>count</th>\n",
       "      <td>149531.000000</td>\n",
       "      <td>149531.000000</td>\n",
       "      <td>149531.000000</td>\n",
       "      <td>149531.000000</td>\n",
       "      <td>149531.000000</td>\n",
       "      <td>149531.000000</td>\n",
       "      <td>149531.000000</td>\n",
       "      <td>149531.000000</td>\n",
       "      <td>149531.000000</td>\n",
       "      <td>149531.000000</td>\n",
       "      <td>149531.000000</td>\n",
       "      <td>149531.000000</td>\n",
       "      <td>149531.000000</td>\n",
       "      <td>149531.000000</td>\n",
       "      <td>149531.000000</td>\n",
       "      <td>149531.000000</td>\n",
       "      <td>149531.000000</td>\n",
       "      <td>149531.000000</td>\n",
       "      <td>149531.000000</td>\n",
       "      <td>149531.000000</td>\n",
       "    </tr>\n",
       "    <tr>\n",
       "      <th>mean</th>\n",
       "      <td>1994.939852</td>\n",
       "      <td>41.569347</td>\n",
       "      <td>0.099687</td>\n",
       "      <td>3.843752</td>\n",
       "      <td>1.155595</td>\n",
       "      <td>0.076818</td>\n",
       "      <td>57.619009</td>\n",
       "      <td>0.365308</td>\n",
       "      <td>0.116483</td>\n",
       "      <td>0.072406</td>\n",
       "      <td>0.018277</td>\n",
       "      <td>2.846554</td>\n",
       "      <td>0.567929</td>\n",
       "      <td>2.388139</td>\n",
       "      <td>1.327260</td>\n",
       "      <td>6.874827</td>\n",
       "      <td>0.860424</td>\n",
       "      <td>0.866614</td>\n",
       "      <td>0.604886</td>\n",
       "      <td>0.228257</td>\n",
       "    </tr>\n",
       "    <tr>\n",
       "      <th>std</th>\n",
       "      <td>24.890965</td>\n",
       "      <td>47.171583</td>\n",
       "      <td>0.383815</td>\n",
       "      <td>1.669577</td>\n",
       "      <td>1.147780</td>\n",
       "      <td>0.307686</td>\n",
       "      <td>154.168251</td>\n",
       "      <td>0.804314</td>\n",
       "      <td>0.430053</td>\n",
       "      <td>0.259160</td>\n",
       "      <td>0.133952</td>\n",
       "      <td>5.295663</td>\n",
       "      <td>0.994824</td>\n",
       "      <td>1.090351</td>\n",
       "      <td>0.933756</td>\n",
       "      <td>1.348353</td>\n",
       "      <td>1.075712</td>\n",
       "      <td>0.663915</td>\n",
       "      <td>0.346778</td>\n",
       "      <td>0.659589</td>\n",
       "    </tr>\n",
       "    <tr>\n",
       "      <th>min</th>\n",
       "      <td>1878.000000</td>\n",
       "      <td>0.000000</td>\n",
       "      <td>0.000000</td>\n",
       "      <td>1.791759</td>\n",
       "      <td>0.000000</td>\n",
       "      <td>0.000000</td>\n",
       "      <td>0.000000</td>\n",
       "      <td>0.000000</td>\n",
       "      <td>0.000000</td>\n",
       "      <td>0.000000</td>\n",
       "      <td>0.000000</td>\n",
       "      <td>0.000000</td>\n",
       "      <td>0.000000</td>\n",
       "      <td>0.000000</td>\n",
       "      <td>0.000000</td>\n",
       "      <td>1.000000</td>\n",
       "      <td>0.000000</td>\n",
       "      <td>0.000000</td>\n",
       "      <td>0.000000</td>\n",
       "      <td>0.000000</td>\n",
       "    </tr>\n",
       "    <tr>\n",
       "      <th>25%</th>\n",
       "      <td>1981.000000</td>\n",
       "      <td>0.000000</td>\n",
       "      <td>0.000000</td>\n",
       "      <td>2.564949</td>\n",
       "      <td>0.693147</td>\n",
       "      <td>0.000000</td>\n",
       "      <td>16.000000</td>\n",
       "      <td>0.000000</td>\n",
       "      <td>0.000000</td>\n",
       "      <td>0.000000</td>\n",
       "      <td>0.000000</td>\n",
       "      <td>1.000000</td>\n",
       "      <td>0.000000</td>\n",
       "      <td>1.791759</td>\n",
       "      <td>0.693147</td>\n",
       "      <td>6.100000</td>\n",
       "      <td>0.000000</td>\n",
       "      <td>0.000000</td>\n",
       "      <td>0.693147</td>\n",
       "      <td>0.000000</td>\n",
       "    </tr>\n",
       "    <tr>\n",
       "      <th>50%</th>\n",
       "      <td>1999.000000</td>\n",
       "      <td>30.000000</td>\n",
       "      <td>0.000000</td>\n",
       "      <td>3.367296</td>\n",
       "      <td>0.693147</td>\n",
       "      <td>0.000000</td>\n",
       "      <td>34.000000</td>\n",
       "      <td>0.000000</td>\n",
       "      <td>0.000000</td>\n",
       "      <td>0.000000</td>\n",
       "      <td>0.000000</td>\n",
       "      <td>1.000000</td>\n",
       "      <td>0.000000</td>\n",
       "      <td>2.564949</td>\n",
       "      <td>1.098612</td>\n",
       "      <td>7.100000</td>\n",
       "      <td>0.693147</td>\n",
       "      <td>0.693147</td>\n",
       "      <td>0.693147</td>\n",
       "      <td>0.000000</td>\n",
       "    </tr>\n",
       "    <tr>\n",
       "      <th>75%</th>\n",
       "      <td>2015.000000</td>\n",
       "      <td>73.000000</td>\n",
       "      <td>0.000000</td>\n",
       "      <td>4.682131</td>\n",
       "      <td>1.609438</td>\n",
       "      <td>0.000000</td>\n",
       "      <td>64.000000</td>\n",
       "      <td>0.000000</td>\n",
       "      <td>0.000000</td>\n",
       "      <td>0.000000</td>\n",
       "      <td>0.000000</td>\n",
       "      <td>3.000000</td>\n",
       "      <td>0.693147</td>\n",
       "      <td>3.091042</td>\n",
       "      <td>1.791759</td>\n",
       "      <td>7.800000</td>\n",
       "      <td>1.386294</td>\n",
       "      <td>1.386294</td>\n",
       "      <td>0.693147</td>\n",
       "      <td>0.000000</td>\n",
       "    </tr>\n",
       "    <tr>\n",
       "      <th>max</th>\n",
       "      <td>2024.000000</td>\n",
       "      <td>5220.000000</td>\n",
       "      <td>6.102559</td>\n",
       "      <td>14.896614</td>\n",
       "      <td>9.932415</td>\n",
       "      <td>6.969791</td>\n",
       "      <td>25218.000000</td>\n",
       "      <td>6.444131</td>\n",
       "      <td>6.478510</td>\n",
       "      <td>1.000000</td>\n",
       "      <td>1.000000</td>\n",
       "      <td>100.000000</td>\n",
       "      <td>9.331673</td>\n",
       "      <td>9.273315</td>\n",
       "      <td>6.393591</td>\n",
       "      <td>10.000000</td>\n",
       "      <td>6.613384</td>\n",
       "      <td>3.951244</td>\n",
       "      <td>4.077537</td>\n",
       "      <td>6.989335</td>\n",
       "    </tr>\n",
       "  </tbody>\n",
       "</table>\n",
       "</div>"
      ],
      "text/plain": [
       "           startYear  runtimeMinutes      awardWins       numVotes  \\\n",
       "count  149531.000000   149531.000000  149531.000000  149531.000000   \n",
       "mean     1994.939852       41.569347       0.099687       3.843752   \n",
       "std        24.890965       47.171583       0.383815       1.669577   \n",
       "min      1878.000000        0.000000       0.000000       1.791759   \n",
       "25%      1981.000000        0.000000       0.000000       2.564949   \n",
       "50%      1999.000000       30.000000       0.000000       3.367296   \n",
       "75%      2015.000000       73.000000       0.000000       4.682131   \n",
       "max      2024.000000     5220.000000       6.102559      14.896614   \n",
       "\n",
       "         totalImages    totalVideos   totalCredits  criticReviewsTotal  \\\n",
       "count  149531.000000  149531.000000  149531.000000       149531.000000   \n",
       "mean        1.155595       0.076818      57.619009            0.365308   \n",
       "std         1.147780       0.307686     154.168251            0.804314   \n",
       "min         0.000000       0.000000       0.000000            0.000000   \n",
       "25%         0.693147       0.000000      16.000000            0.000000   \n",
       "50%         0.693147       0.000000      34.000000            0.000000   \n",
       "75%         1.609438       0.000000      64.000000            0.000000   \n",
       "max         9.932415       6.969791   25218.000000            6.444131   \n",
       "\n",
       "          AwNmExWins  canHaveEpisodes        isAdult     numRegions  \\\n",
       "count  149531.000000    149531.000000  149531.000000  149531.000000   \n",
       "mean        0.116483         0.072406       0.018277       2.846554   \n",
       "std         0.430053         0.259160       0.133952       5.295663   \n",
       "min         0.000000         0.000000       0.000000       0.000000   \n",
       "25%         0.000000         0.000000       0.000000       1.000000   \n",
       "50%         0.000000         0.000000       0.000000       1.000000   \n",
       "75%         0.000000         0.000000       0.000000       3.000000   \n",
       "max         6.478510         1.000000       1.000000     100.000000   \n",
       "\n",
       "       userReviewsTotal     castNumber  companiesNumber  averageRating  \\\n",
       "count     149531.000000  149531.000000    149531.000000  149531.000000   \n",
       "mean           0.567929       2.388139         1.327260       6.874827   \n",
       "std            0.994824       1.090351         0.933756       1.348353   \n",
       "min            0.000000       0.000000         0.000000       1.000000   \n",
       "25%            0.000000       1.791759         0.693147       6.100000   \n",
       "50%            0.000000       2.564949         1.098612       7.100000   \n",
       "75%            0.693147       3.091042         1.791759       7.800000   \n",
       "max            9.331673       9.273315         6.393591      10.000000   \n",
       "\n",
       "       externalLinks  writerCredits  directorsCredits    quotesTotal  \n",
       "count  149531.000000  149531.000000     149531.000000  149531.000000  \n",
       "mean        0.860424       0.866614          0.604886       0.228257  \n",
       "std         1.075712       0.663915          0.346778       0.659589  \n",
       "min         0.000000       0.000000          0.000000       0.000000  \n",
       "25%         0.000000       0.000000          0.693147       0.000000  \n",
       "50%         0.693147       0.693147          0.693147       0.000000  \n",
       "75%         1.386294       1.386294          0.693147       0.000000  \n",
       "max         6.613384       3.951244          4.077537       6.989335  "
      ]
     },
     "execution_count": 24,
     "metadata": {},
     "output_type": "execute_result"
    }
   ],
   "source": [
    "df.describe()"
   ]
  },
  {
   "cell_type": "code",
   "execution_count": 25,
   "metadata": {},
   "outputs": [
    {
     "data": {
      "text/plain": [
       "Counter({0: 138704, 1: 10827})"
      ]
     },
     "execution_count": 25,
     "metadata": {},
     "output_type": "execute_result"
    }
   ],
   "source": [
    "ctr = Counter(df['canHaveEpisodes'])\n",
    "ctr"
   ]
  },
  {
   "cell_type": "code",
   "execution_count": 26,
   "metadata": {},
   "outputs": [
    {
     "data": {
      "image/png": "[encoded data removed]",
      "text/plain": [
       "<Figure size 640x480 with 1 Axes>"
      ]
     },
     "metadata": {},
     "output_type": "display_data"
    }
   ],
   "source": [
    "plt.bar(ctr.keys(), ctr.values(), label=ctr.keys(), color=['tab:blue', 'tab:orange'])\n",
    "plt.legend()\n",
    "plt.show()"
   ]
  },
  {
   "cell_type": "markdown",
   "metadata": {},
   "source": [
    "# Undersampling"
   ]
  },
  {
   "cell_type": "code",
   "execution_count": 27,
   "metadata": {},
   "outputs": [],
   "source": [
    "from sklearn.model_selection import train_test_split, cross_val_score "
   ]
  },
  {
   "cell_type": "code",
   "execution_count": 28,
   "metadata": {},
   "outputs": [],
   "source": [
    "X_train, X_test, y_train, y_test = train_test_split(df, df['canHaveEpisodes'], test_size=0.3, random_state=100, stratify=df['canHaveEpisodes'])"
   ]
  },
  {
   "cell_type": "code",
   "execution_count": null,
   "metadata": {},
   "outputs": [
    {
     "name": "stdout",
     "output_type": "stream",
     "text": [
      "Defaulting to user installation because normal site-packages is not writeable\n",
      "Collecting imblearn\n",
      "  Downloading imblearn-0.0-py2.py3-none-any.whl.metadata (355 bytes)\n",
      "Collecting imbalanced-learn (from imblearn)\n",
      "  Downloading imbalanced_learn-0.13.0-py3-none-any.whl.metadata (8.8 kB)\n",
      "Requirement already satisfied: numpy<3,>=1.24.3 in c:\\users\\alban\\appdata\\roaming\\python\\python313\\site-packages (from imbalanced-learn->imblearn) (2.1.3)\n",
      "Requirement already satisfied: scipy<2,>=1.10.1 in c:\\users\\alban\\appdata\\roaming\\python\\python313\\site-packages (from imbalanced-learn->imblearn) (1.15.2)\n",
      "Requirement already satisfied: scikit-learn<2,>=1.3.2 in c:\\users\\alban\\appdata\\roaming\\python\\python313\\site-packages (from imbalanced-learn->imblearn) (1.6.1)\n",
      "Collecting sklearn-compat<1,>=0.1 (from imbalanced-learn->imblearn)\n",
      "  Downloading sklearn_compat-0.1.3-py3-none-any.whl.metadata (18 kB)\n",
      "Requirement already satisfied: joblib<2,>=1.1.1 in c:\\users\\alban\\appdata\\roaming\\python\\python313\\site-packages (from imbalanced-learn->imblearn) (1.4.2)\n",
      "Requirement already satisfied: threadpoolctl<4,>=2.0.0 in c:\\users\\alban\\appdata\\roaming\\python\\python313\\site-packages (from imbalanced-learn->imblearn) (3.5.0)\n",
      "Downloading imblearn-0.0-py2.py3-none-any.whl (1.9 kB)\n",
      "Downloading imbalanced_learn-0.13.0-py3-none-any.whl (238 kB)\n",
      "Downloading sklearn_compat-0.1.3-py3-none-any.whl (18 kB)\n",
      "Installing collected packages: sklearn-compat, imbalanced-learn, imblearn\n",
      "Successfully installed imbalanced-learn-0.13.0 imblearn-0.0 sklearn-compat-0.1.3\n"
     ]
    },
    {
     "name": "stderr",
     "output_type": "stream",
     "text": [
      "\n",
      "[notice] A new release of pip is available: 24.3.1 -> 25.0.1\n",
      "[notice] To update, run: python.exe -m pip install --upgrade pip\n"
     ]
    }
   ],
   "source": [
    "# !pip install imblearn"
   ]
  },
  {
   "cell_type": "code",
   "execution_count": 29,
   "metadata": {},
   "outputs": [],
   "source": [
    "from imblearn.under_sampling import RandomUnderSampler\n",
    "from imblearn.under_sampling import CondensedNearestNeighbour\n",
    "from imblearn.under_sampling import TomekLinks\n",
    "from imblearn.under_sampling import EditedNearestNeighbours"
   ]
  },
  {
   "cell_type": "markdown",
   "metadata": {},
   "source": [
    "### RandomUnderSampler"
   ]
  },
  {
   "cell_type": "code",
   "execution_count": 30,
   "metadata": {},
   "outputs": [
    {
     "name": "stdout",
     "output_type": "stream",
     "text": [
      "Resampled dataset shape Counter({0: 7579, 1: 7579})\n"
     ]
    }
   ],
   "source": [
    "rus = RandomUnderSampler(random_state=42)\n",
    "X_res, y_res = rus.fit_resample(X_train, y_train)\n",
    "print('Resampled dataset shape %s' % Counter(y_res))"
   ]
  },
  {
   "cell_type": "code",
   "execution_count": 32,
   "metadata": {},
   "outputs": [],
   "source": [
    "def plot_pca(X_pca, y_train):\n",
    "    plt.scatter(X_pca[:, 0], X_pca[:, 1], c=y_train, cmap=plt.cm.prism, edgecolor='k', alpha=0.7)\n",
    "    plt.show()"
   ]
  },
  {
   "cell_type": "code",
   "execution_count": 34,
   "metadata": {},
   "outputs": [
    {
     "data": {
      "image/png": "[encoded data removed]",
      "text/plain": [
       "<Figure size 640x480 with 1 Axes>"
      ]
     },
     "metadata": {},
     "output_type": "display_data"
    }
   ],
   "source": [
    "from sklearn.decomposition import PCA\n",
    "pca = PCA(n_components=2)\n",
    "pca.fit(X_train)\n",
    "X_pca = pca.transform(X_res)\n",
    "plot_pca(X_pca, y_res)"
   ]
  },
  {
   "cell_type": "code",
   "execution_count": null,
   "metadata": {},
   "outputs": [],
   "source": []
  }
 ],
 "metadata": {
  "kernelspec": {
   "display_name": "Python 3",
   "language": "python",
   "name": "python3"
  },
  "language_info": {
   "codemirror_mode": {
    "name": "ipython",
    "version": 3
   },
   "file_extension": ".py",
   "mimetype": "text/x-python",
   "name": "python",
   "nbconvert_exporter": "python",
   "pygments_lexer": "ipython3",
   "version": "3.13.2"
  }
 },
 "nbformat": 4,
 "nbformat_minor": 2
}
