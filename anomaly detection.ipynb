{
 "cells": [
  {
   "cell_type": "markdown",
   "metadata": {},
   "source": [
    "# Anomaly Detection"
   ]
  },
  {
   "cell_type": "code",
   "execution_count": 13,
   "metadata": {},
   "outputs": [],
   "source": [
    "# pip install pyod"
   ]
  },
  {
   "cell_type": "code",
   "execution_count": 14,
   "metadata": {},
   "outputs": [],
   "source": [
    "import pandas as pd\n",
    "import numpy as np\n",
    "import matplotlib.pyplot as plt\n",
    "import seaborn as sns"
   ]
  },
  {
   "cell_type": "code",
   "execution_count": 15,
   "metadata": {},
   "outputs": [],
   "source": [
    "df = pd.read_csv('imbd_log.csv')"
   ]
  },
  {
   "cell_type": "markdown",
   "metadata": {},
   "source": [
    "### HBOS"
   ]
  },
  {
   "cell_type": "code",
   "execution_count": 16,
   "metadata": {},
   "outputs": [
    {
     "name": "stdout",
     "output_type": "stream",
     "text": [
      "        outlier_pt_hbos  outliers_hbos\n",
      "0             20.542574              0\n",
      "1             14.286763              0\n",
      "2             12.334009              0\n",
      "3             23.190280              1\n",
      "4             24.300127              1\n",
      "...                 ...            ...\n",
      "149526         9.378729              0\n",
      "149527        16.403796              0\n",
      "149528        16.356439              0\n",
      "149529         9.483305              0\n",
      "149530        13.914544              0\n",
      "\n",
      "[149531 rows x 2 columns]\n"
     ]
    }
   ],
   "source": [
    "from pyod.models.hbos import HBOS\n",
    "import pandas as pd\n",
    "\n",
    "# Supponendo che 'df' sia il tuo dataframe\n",
    "# Inizializza il modello HBOS\n",
    "numeric_df = df.select_dtypes(include=['number'])\n",
    "\n",
    "# Inizializza il modello HBOS\n",
    "hbos = HBOS()\n",
    "\n",
    "# Adatta il modello ai dati\n",
    "hbos.fit(numeric_df)\n",
    "\n",
    "# Ottieni i punteggi degli outlier\n",
    "outlier_pt_hbos = hbos.decision_function(numeric_df)\n",
    "\n",
    "# Ottieni le etichette degli outlier\n",
    "outliers_hbos = hbos.labels_\n",
    "\n",
    "# Aggiungi i punteggi e le etichette degli outlier al dataframe originale\n",
    "df['outlier_pt_hbos'] = outlier_pt_hbos\n",
    "df['outliers_hbos'] = outliers_hbos\n",
    "\n",
    "print(df[['outlier_pt_hbos', 'outliers_hbos']])"
   ]
  },
  {
   "cell_type": "code",
   "execution_count": 18,
   "metadata": {},
   "outputs": [
    {
     "name": "stdout",
     "output_type": "stream",
     "text": [
      "La percentuale di outlier nel dataframe è: 10.00%\n"
     ]
    }
   ],
   "source": [
    "# Calcola la percentuale di outlier\n",
    "outlier_percentage = (df['outliers_hbos'].sum() / len(df)) * 100\n",
    "\n",
    "print(f\"La percentuale di outlier nel dataframe è: {outlier_percentage:.2f}%\")"
   ]
  },
  {
   "cell_type": "markdown",
   "metadata": {},
   "source": [
    "### LOF"
   ]
  },
  {
   "cell_type": "code",
   "execution_count": 21,
   "metadata": {},
   "outputs": [
    {
     "name": "stdout",
     "output_type": "stream",
     "text": [
      "La percentuale di outlier nel dataframe è: 10.00%\n"
     ]
    }
   ],
   "source": [
    "from pyod.models.lof import LOF\n",
    "import pandas as pd\n",
    "\n",
    "# Supponendo che 'df' sia il tuo dataframe\n",
    "# Seleziona solo le variabili numeriche\n",
    "numeric_df = df.select_dtypes(include=['number'])\n",
    "\n",
    "# Inizializza il modello LOF\n",
    "lof = LOF()\n",
    "\n",
    "# Adatta il modello ai dati\n",
    "lof.fit(numeric_df)\n",
    "\n",
    "# Ottieni i punteggi degli outlier\n",
    "outlier_pt_lof = lof.decision_function(numeric_df)\n",
    "\n",
    "# Ottieni le etichette degli outlier\n",
    "outliers_lof = lof.labels_\n",
    "\n",
    "# Aggiungi i punteggi e le etichette degli outlier al dataframe originale\n",
    "df['outlier_pt_lof'] = outlier_pt_lof\n",
    "df['outliers_lof'] = outliers_lof\n",
    "\n",
    "# Calcola la percentuale di outlier\n",
    "outlier_percentage = (df['outliers_lof'].sum() / len(df)) * 100\n",
    "\n",
    "print(f\"La percentuale di outlier nel dataframe è: {outlier_percentage:.2f}%\")"
   ]
  },
  {
   "cell_type": "markdown",
   "metadata": {},
   "source": [
    "### ABOD"
   ]
  },
  {
   "cell_type": "code",
   "execution_count": null,
   "metadata": {},
   "outputs": [],
   "source": []
  },
  {
   "cell_type": "code",
   "execution_count": 23,
   "metadata": {},
   "outputs": [
    {
     "name": "stdout",
     "output_type": "stream",
     "text": [
      "Il numero di outlier corrispondenti tra i due metodi è: 3220\n"
     ]
    }
   ],
   "source": [
    "# Confronta le colonne 'outlier_pt_hbos' e 'outlier_pt_lof'\n",
    "corresponding_outliers = df[(df['outliers_hbos'] == 1) & (df['outliers_lof'] == 1)]\n",
    "\n",
    "# Calcola il numero di outlier corrispondenti\n",
    "num_corresponding_outliers = len(corresponding_outliers)\n",
    "\n",
    "print(f\"Il numero di outlier corrispondenti tra i due metodi è: {num_corresponding_outliers}\")"
   ]
  },
  {
   "cell_type": "code",
   "execution_count": null,
   "metadata": {},
   "outputs": [],
   "source": []
  }
 ],
 "metadata": {
  "kernelspec": {
   "display_name": "Python 3",
   "language": "python",
   "name": "python3"
  },
  "language_info": {
   "codemirror_mode": {
    "name": "ipython",
    "version": 3
   },
   "file_extension": ".py",
   "mimetype": "text/x-python",
   "name": "python",
   "nbconvert_exporter": "python",
   "pygments_lexer": "ipython3",
   "version": "3.13.0"
  }
 },
 "nbformat": 4,
 "nbformat_minor": 2
}
