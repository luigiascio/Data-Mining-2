{
  "cells": [
    {
      "cell_type": "code",
      "execution_count": 1,
      "id": "b991de24",
      "metadata": {
        "id": "b991de24"
      },
      "outputs": [
        {
          "name": "stderr",
          "output_type": "stream",
          "text": [
            "c:\\Users\\Lavigi\\programmi\\Lib\\site-packages\\pandas\\core\\arrays\\masked.py:60: UserWarning: Pandas requires version '1.3.6' or newer of 'bottleneck' (version '1.3.5' currently installed).\n",
            "  from pandas.core import (\n"
          ]
        }
      ],
      "source": [
        "%matplotlib inline\n",
        "\n",
        "import numpy as np\n",
        "import pandas as pd\n",
        "import matplotlib.pyplot as plt\n",
        "\n",
        "from collections import defaultdict\n",
        "\n",
        "import seaborn as sns\n",
        "import random as rn\n",
        "import copy as copy\n",
        "\n",
        "import time"
      ]
    },
    {
      "cell_type": "code",
      "execution_count": 2,
      "id": "6aa3cde0",
      "metadata": {
        "id": "6aa3cde0"
      },
      "outputs": [],
      "source": [
        "df = pd.read_csv('imbd_cleaned.csv')\n",
        "\n",
        "X = df.select_dtypes(include=['number'])\n",
        "X = X.drop(['averageRating'], axis = 1)\n",
        "X = X.values\n",
        "y = np.array(df['averageRating'])"
      ]
    },
    {
      "cell_type": "markdown",
      "id": "582e826b",
      "metadata": {
        "id": "582e826b"
      },
      "source": [
        "## Data Partitioning"
      ]
    },
    {
      "cell_type": "code",
      "execution_count": 3,
      "id": "52be6fc4",
      "metadata": {
        "id": "52be6fc4"
      },
      "outputs": [],
      "source": [
        "from sklearn.model_selection import train_test_split, cross_val_score\n",
        "\n",
        "from sklearn.metrics import accuracy_score, f1_score, classification_report\n",
        "from sklearn.metrics import roc_curve, auc, roc_auc_score"
      ]
    },
    {
      "cell_type": "code",
      "execution_count": 4,
      "id": "abba53cb",
      "metadata": {
        "id": "abba53cb"
      },
      "outputs": [],
      "source": [
        "X_train, X_test, y_train, y_test = train_test_split(X, y, test_size=0.3, random_state=100, stratify=y)"
      ]
    },
    {
      "cell_type": "code",
      "execution_count": 5,
      "id": "02098a4e",
      "metadata": {
        "id": "02098a4e"
      },
      "outputs": [],
      "source": [
        "from sklearn.preprocessing import StandardScaler"
      ]
    },
    {
      "cell_type": "code",
      "execution_count": 6,
      "id": "a2773456",
      "metadata": {
        "id": "a2773456"
      },
      "outputs": [],
      "source": [
        "scaler = StandardScaler()\n",
        "scaler.fit(X_train)\n",
        "X_train = scaler.transform(X_train)\n",
        "X_test = scaler.transform(X_test)"
      ]
    },
    {
      "cell_type": "markdown",
      "id": "55e113ef",
      "metadata": {
        "id": "55e113ef"
      },
      "source": [
        "# Gradient Boosting"
      ]
    },
    {
      "cell_type": "code",
      "execution_count": null,
      "id": "73ab4189",
      "metadata": {
        "id": "73ab4189"
      },
      "outputs": [],
      "source": [
        "from sklearn.ensemble import GradientBoostingClassifier, GradientBoostingRegressor"
      ]
    },
    {
      "cell_type": "code",
      "execution_count": null,
      "id": "bf5aa873",
      "metadata": {
        "id": "bf5aa873"
      },
      "outputs": [],
      "source": [
        "from sklearn.ensemble import HistGradientBoostingClassifier"
      ]
    },
    {
      "cell_type": "code",
      "execution_count": null,
      "id": "8dcfed38",
      "metadata": {
        "id": "8dcfed38",
        "outputId": "5132b4c9-ec77-412d-aa22-c9f0f9101209"
      },
      "outputs": [
        {
          "name": "stdout",
          "output_type": "stream",
          "text": [
            "Accuracy 0.36725127837086213\n",
            "F1-score [0.         0.         0.00516796 0.00383509 0.02125399 0.27648202\n",
            " 0.32591205 0.52907553 0.09114359 0.03255485]\n"
          ]
        },
        {
          "name": "stderr",
          "output_type": "stream",
          "text": [
            "c:\\Users\\Lavigi\\AppData\\Local\\Programs\\Python\\Python313\\Lib\\site-packages\\sklearn\\metrics\\_classification.py:1531: UndefinedMetricWarning: Precision is ill-defined and being set to 0.0 in labels with no predicted samples. Use `zero_division` parameter to control this behavior.\n",
            "  _warn_prf(average, modifier, f\"{metric.capitalize()} is\", len(result))\n",
            "c:\\Users\\Lavigi\\AppData\\Local\\Programs\\Python\\Python313\\Lib\\site-packages\\sklearn\\metrics\\_classification.py:1531: UndefinedMetricWarning: Precision is ill-defined and being set to 0.0 in labels with no predicted samples. Use `zero_division` parameter to control this behavior.\n",
            "  _warn_prf(average, modifier, f\"{metric.capitalize()} is\", len(result))\n"
          ]
        },
        {
          "name": "stdout",
          "output_type": "stream",
          "text": [
            "              precision    recall  f1-score   support\n",
            "\n",
            "      (0, 1]       0.00      0.00      0.00        26\n",
            "      (1, 2]       0.00      0.00      0.00       141\n",
            "      (2, 3]       0.03      0.00      0.01       353\n",
            "      (3, 4]       0.12      0.00      0.00      1027\n",
            "      (4, 5]       0.29      0.01      0.02      2719\n",
            "      (5, 6]       0.29      0.27      0.28      6372\n",
            "      (6, 7]       0.32      0.33      0.33     11643\n",
            "      (7, 8]       0.42      0.72      0.53     14463\n",
            "      (8, 9]       0.24      0.06      0.09      6563\n",
            "     (9, 10]       0.17      0.02      0.03      1281\n",
            "\n",
            "    accuracy                           0.37     44588\n",
            "   macro avg       0.19      0.14      0.13     44588\n",
            "weighted avg       0.32      0.37      0.31     44588\n",
            "\n"
          ]
        },
        {
          "name": "stderr",
          "output_type": "stream",
          "text": [
            "c:\\Users\\Lavigi\\AppData\\Local\\Programs\\Python\\Python313\\Lib\\site-packages\\sklearn\\metrics\\_classification.py:1531: UndefinedMetricWarning: Precision is ill-defined and being set to 0.0 in labels with no predicted samples. Use `zero_division` parameter to control this behavior.\n",
            "  _warn_prf(average, modifier, f\"{metric.capitalize()} is\", len(result))\n"
          ]
        }
      ],
      "source": [
        "clf = HistGradientBoostingClassifier(learning_rate=1.0, max_depth=2, random_state=0)\n",
        "clf.fit(X_train, y_train)\n",
        "\n",
        "y_pred = clf.predict(X_test)\n",
        "\n",
        "print('Accuracy %s' % accuracy_score(y_test, y_pred))\n",
        "print('F1-score %s' % f1_score(y_test, y_pred, average=None))\n",
        "print(classification_report(y_test, y_pred))"
      ]
    },
    {
      "cell_type": "markdown",
      "id": "7e043b93",
      "metadata": {
        "id": "7e043b93"
      },
      "source": [
        "# XGBoost\n",
        "https://xgboost.readthedocs.io/en/stable/python/python_intro.html"
      ]
    },
    {
      "cell_type": "code",
      "execution_count": 27,
      "id": "c1818771",
      "metadata": {
        "id": "c1818771",
        "outputId": "a9a5a20c-b91b-4728-950f-c733546ab175"
      },
      "outputs": [],
      "source": [
        "# !pip install xgboost"
      ]
    },
    {
      "cell_type": "code",
      "execution_count": 35,
      "id": "3fbb7551",
      "metadata": {
        "id": "3fbb7551"
      },
      "outputs": [
        {
          "name": "stdout",
          "output_type": "stream",
          "text": [
            "Fitting 3 folds for each of 50 candidates, totalling 150 fits\n"
          ]
        },
        {
          "name": "stderr",
          "output_type": "stream",
          "text": [
            "c:\\Users\\Lavigi\\programmi\\Lib\\site-packages\\xgboost\\training.py:183: UserWarning: [20:26:08] WARNING: C:\\actions-runner\\_work\\xgboost\\xgboost\\src\\learner.cc:738: \n",
            "Parameters: { \"use_label_encoder\" } are not used.\n",
            "\n",
            "  bst.update(dtrain, iteration=i, fobj=obj)\n"
          ]
        },
        {
          "name": "stdout",
          "output_type": "stream",
          "text": [
            "Migliori parametri trovati: {'subsample': 1.0, 'reg_lambda': 10, 'reg_alpha': 1, 'n_estimators': 200, 'max_depth': 9, 'learning_rate': 0.2, 'gamma': 0.3, 'colsample_bytree': 0.8}\n",
            "Miglior punteggio: -1.2554743276377085\n"
          ]
        }
      ],
      "source": [
        "from xgboost import XGBRegressor\n",
        "from xgboost import XGBClassifier\n",
        "from sklearn.model_selection import RandomizedSearchCV, cross_val_score, StratifiedKFold\n",
        "from sklearn.metrics import accuracy_score, f1_score, classification_report, roc_curve, precision_recall_curve\n",
        "import numpy as np\n",
        "import matplotlib.pyplot as plt\n",
        "\n",
        "reg = XGBRegressor(tree_method='exact', use_label_encoder=True, random_state=42)\n",
        "\n",
        "# Definisci la griglia di parametri\n",
        "param_dist = {\n",
        "    'max_depth': [3, 5, 7, 9],\n",
        "    'learning_rate': [0.01, 0.1, 0.2, 0.3],\n",
        "    'n_estimators': [50, 100, 200, 300],\n",
        "    'gamma': [0, 0.1, 0.2, 0.3],\n",
        "    'subsample': [0.6, 0.8, 1.0],\n",
        "    'colsample_bytree': [0.6, 0.8, 1.0],\n",
        "    'reg_lambda': [0, 1, 10],\n",
        "    'reg_alpha': [0, 0.1, 1]\n",
        "}\n",
        "\n",
        "# Specifica il numero di iterazioni\n",
        "n_iter = 50 # Puoi modificare questo valore in base alle tue esigenze\n",
        "\n",
        "random_search = RandomizedSearchCV(estimator=reg, param_distributions=param_dist, scoring='neg_mean_squared_error',\n",
        "    cv=3, verbose=2, n_jobs=-1, n_iter=n_iter, error_score='raise')\n",
        "\n",
        "# Esegui la random search\n",
        "random_search.fit(X_train, y_train)\n",
        "\n",
        "# Stampa i migliori parametri\n",
        "print(\"Migliori parametri trovati:\", random_search.best_params_)\n",
        "print(\"Miglior punteggio:\", random_search.best_score_)\n",
        "\n"
      ]
    },
    {
      "cell_type": "code",
      "execution_count": 39,
      "id": "5b99bc81",
      "metadata": {
        "id": "5b99bc81"
      },
      "outputs": [
        {
          "name": "stderr",
          "output_type": "stream",
          "text": [
            "c:\\Users\\Lavigi\\programmi\\Lib\\site-packages\\xgboost\\training.py:183: UserWarning:\n",
            "\n",
            "[12:20:57] WARNING: C:\\actions-runner\\_work\\xgboost\\xgboost\\src\\learner.cc:738: \n",
            "Parameters: { \"use_label_encoder\" } are not used.\n",
            "\n",
            "\n"
          ]
        },
        {
          "name": "stdout",
          "output_type": "stream",
          "text": [
            "R2: 0.323\n",
            "MSE: 1.231\n",
            "MAE: 0.814\n"
          ]
        }
      ],
      "source": [
        "from xgboost import XGBRegressor\n",
        "from sklearn.model_selection import RandomizedSearchCV, cross_val_score\n",
        "from sklearn.metrics import make_scorer, r2_score, mean_squared_error, mean_absolute_error\n",
        "from sklearn.tree import DecisionTreeRegressor\n",
        "from scipy.stats import randint\n",
        "import numpy as np\n",
        "\n",
        "# Definisci il modello con i migliori iperparametri trovati\n",
        "best_model = XGBRegressor(\n",
        "    tree_method='exact', \n",
        "    use_label_encoder=True, \n",
        "    random_state=42,\n",
        "    subsample=1.0,\n",
        "    reg_lambda=10,  # Aggiornato\n",
        "    reg_alpha=1,\n",
        "    n_estimators=200,  # Aggiornato\n",
        "    max_depth=9,\n",
        "    learning_rate=0.2,  # Aggiornato\n",
        "    gamma=0.3,  # Aggiornato\n",
        "    colsample_bytree=0.8  # Aggiornato\n",
        ")\n",
        "\n",
        "# Addestra il modello con i dati di addestramento\n",
        "best_model.fit(X_train, y_train)\n",
        "\n",
        "# Effettua le predizioni con i dati di test\n",
        "y_pred = best_model.predict(X_test)\n",
        "\n",
        "# Calcola e stampa le metriche di valutazione\n",
        "print('R2: %.3f' % r2_score(y_test, y_pred))\n",
        "print('MSE: %.3f' % mean_squared_error(y_test, y_pred))\n",
        "print('MAE: %.3f' % mean_absolute_error(y_test, y_pred))"
      ]
    },
    {
      "cell_type": "code",
      "execution_count": 40,
      "id": "76da6d88",
      "metadata": {},
      "outputs": [
        {
          "data": {
            "image/png": "[encoded data removed]",
            "text/plain": [
              "<Figure size 1000x600 with 1 Axes>"
            ]
          },
          "metadata": {},
          "output_type": "display_data"
        }
      ],
      "source": [
        "import matplotlib.pyplot as plt\n",
        "import xgboost as xgb\n",
        "\n",
        "# Calcola la feature importance\n",
        "importance = best_model.feature_importances_\n",
        "\n",
        "# Crea un grafico per visualizzare la feature importance\n",
        "plt.figure(figsize=(10, 6))\n",
        "plt.bar(range(len(importance)), importance)\n",
        "plt.xlabel('Feature Index')\n",
        "plt.ylabel('Importance Score')\n",
        "plt.title('Feature Importance')\n",
        "plt.show()"
      ]
    },
    {
      "cell_type": "code",
      "execution_count": 41,
      "id": "4915d844",
      "metadata": {},
      "outputs": [
        {
          "data": {
            "text/plain": [
              "list"
            ]
          },
          "execution_count": 41,
          "metadata": {},
          "output_type": "execute_result"
        }
      ],
      "source": [
        "df_num = df.select_dtypes(include=['number'])\n",
        "type(list(df_num.columns))"
      ]
    },
    {
      "cell_type": "code",
      "execution_count": 43,
      "id": "1d639a55",
      "metadata": {},
      "outputs": [],
      "source": [
        "df_num = df_num.drop(['averageRating'], axis = 1)"
      ]
    },
    {
      "cell_type": "code",
      "execution_count": 44,
      "id": "7a9407ae",
      "metadata": {},
      "outputs": [
        {
          "data": {
            "image/png": "[encoded data removed]",
            "text/plain": [
              "<Figure size 1000x600 with 1 Axes>"
            ]
          },
          "metadata": {},
          "output_type": "display_data"
        }
      ],
      "source": [
        "import pandas as pd\n",
        "\n",
        "# Supponiamo che X_train sia un array di NumPy\n",
        "# Converti X_train in un DataFrame di Pandas\n",
        "X_train_df = pd.DataFrame(X_train, columns=df_num.columns)  # Sostituisci con i nomi delle tue feature\n",
        "\n",
        "# Calcola la feature importance\n",
        "importance = best_model.feature_importances_\n",
        "\n",
        "# Crea un DataFrame con i nomi delle feature e la loro importanza\n",
        "feature_importance_df = pd.DataFrame({\n",
        "    'Feature': X_train_df.columns,\n",
        "    'Importance': importance\n",
        "})\n",
        "\n",
        "# Ordina il DataFrame per importanza decrescente e seleziona le prime 10 feature\n",
        "top_features = feature_importance_df.sort_values(by='Importance', ascending=False).head(19)\n",
        "\n",
        "# Crea un grafico a barre per visualizzare le 10 feature più importanti\n",
        "plt.figure(figsize=(10, 6))\n",
        "plt.barh(top_features['Feature'], top_features['Importance'])\n",
        "plt.xlabel('Importance Score')\n",
        "plt.ylabel('Feature')\n",
        "plt.title('Top 10 Feature Importance')\n",
        "plt.gca().invert_yaxis()\n",
        "plt.show()\n"
      ]
    },
    {
      "cell_type": "code",
      "execution_count": null,
      "id": "e9ee9e1c",
      "metadata": {},
      "outputs": [],
      "source": []
    }
  ],
  "metadata": {
    "accelerator": "GPU",
    "colab": {
      "gpuType": "T4",
      "provenance": []
    },
    "kernelspec": {
      "display_name": "base",
      "language": "python",
      "name": "python3"
    },
    "language_info": {
      "codemirror_mode": {
        "name": "ipython",
        "version": 3
      },
      "file_extension": ".py",
      "mimetype": "text/x-python",
      "name": "python",
      "nbconvert_exporter": "python",
      "pygments_lexer": "ipython3",
      "version": "3.11.5"
    }
  },
  "nbformat": 4,
  "nbformat_minor": 5
}
