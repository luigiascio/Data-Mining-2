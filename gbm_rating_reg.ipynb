{
  "cells": [
    {
      "cell_type": "code",
      "execution_count": 7,
      "id": "b991de24",
      "metadata": {
        "id": "b991de24"
      },
      "outputs": [],
      "source": [
        "%matplotlib inline\n",
        "\n",
        "import numpy as np\n",
        "import pandas as pd\n",
        "import matplotlib.pyplot as plt\n",
        "\n",
        "from collections import defaultdict\n",
        "\n",
        "import seaborn as sns\n",
        "import random as rn\n",
        "import copy as copy\n",
        "\n",
        "import time"
      ]
    },
    {
      "cell_type": "code",
      "execution_count": 8,
      "id": "6aa3cde0",
      "metadata": {
        "id": "6aa3cde0"
      },
      "outputs": [],
      "source": [
        "df = pd.read_csv('imbd_cleaned.csv')\n",
        "\n",
        "import pandas as pd\n",
        "\n",
        "# Supponiamo che df sia il tuo dataframe\n",
        "# Seleziona tutte le colonne numeriche\n",
        "numerical_columns = df.select_dtypes(include=[np.number]).columns\n",
        "\n",
        "# Aggiungi la colonna 'titleType' alla lista delle colonne da mantenere\n",
        "columns_to_keep = numerical_columns.tolist() + ['titleType']\n",
        "\n",
        "# Assegna a X tutte le variabili numeriche e la variabile categorica 'titleType'\n",
        "X = df[columns_to_keep]\n",
        "\n",
        "# Assegna a X tutte le variabili numeriche tranne 'titleType'\n",
        "X = df[numerical_columns]\n",
        "X = X.drop(['averageRating'], axis = 1)\n",
        "X = X.values\n",
        "y = np.array(df['averageRating'])"
      ]
    },
    {
      "cell_type": "markdown",
      "id": "582e826b",
      "metadata": {
        "id": "582e826b"
      },
      "source": [
        "## Data Partitioning"
      ]
    },
    {
      "cell_type": "code",
      "execution_count": 9,
      "id": "52be6fc4",
      "metadata": {
        "id": "52be6fc4"
      },
      "outputs": [],
      "source": [
        "from sklearn.model_selection import train_test_split, cross_val_score\n",
        "\n",
        "from sklearn.metrics import accuracy_score, f1_score, classification_report\n",
        "from sklearn.metrics import roc_curve, auc, roc_auc_score"
      ]
    },
    {
      "cell_type": "code",
      "execution_count": 10,
      "id": "abba53cb",
      "metadata": {
        "id": "abba53cb"
      },
      "outputs": [],
      "source": [
        "X_train, X_test, y_train, y_test = train_test_split(X, y, test_size=0.3, random_state=100, stratify=y)"
      ]
    },
    {
      "cell_type": "code",
      "execution_count": 11,
      "id": "02098a4e",
      "metadata": {
        "id": "02098a4e"
      },
      "outputs": [],
      "source": [
        "from sklearn.preprocessing import StandardScaler"
      ]
    },
    {
      "cell_type": "code",
      "execution_count": 12,
      "id": "a2773456",
      "metadata": {
        "id": "a2773456"
      },
      "outputs": [],
      "source": [
        "scaler = StandardScaler()\n",
        "scaler.fit(X_train)\n",
        "X_train = scaler.transform(X_train)\n",
        "X_test = scaler.transform(X_test)"
      ]
    },
    {
      "cell_type": "markdown",
      "id": "55e113ef",
      "metadata": {
        "id": "55e113ef"
      },
      "source": [
        "# Gradient Boosting"
      ]
    },
    {
      "cell_type": "code",
      "execution_count": null,
      "id": "73ab4189",
      "metadata": {
        "id": "73ab4189"
      },
      "outputs": [],
      "source": [
        "from sklearn.ensemble import GradientBoostingClassifier, GradientBoostingRegressor"
      ]
    },
    {
      "cell_type": "code",
      "execution_count": null,
      "id": "bf5aa873",
      "metadata": {
        "id": "bf5aa873"
      },
      "outputs": [],
      "source": [
        "from sklearn.ensemble import HistGradientBoostingClassifier"
      ]
    },
    {
      "cell_type": "code",
      "execution_count": null,
      "id": "8dcfed38",
      "metadata": {
        "id": "8dcfed38",
        "outputId": "5132b4c9-ec77-412d-aa22-c9f0f9101209"
      },
      "outputs": [
        {
          "name": "stdout",
          "output_type": "stream",
          "text": [
            "Accuracy 0.36725127837086213\n",
            "F1-score [0.         0.         0.00516796 0.00383509 0.02125399 0.27648202\n",
            " 0.32591205 0.52907553 0.09114359 0.03255485]\n"
          ]
        },
        {
          "name": "stderr",
          "output_type": "stream",
          "text": [
            "c:\\Users\\Lavigi\\AppData\\Local\\Programs\\Python\\Python313\\Lib\\site-packages\\sklearn\\metrics\\_classification.py:1531: UndefinedMetricWarning: Precision is ill-defined and being set to 0.0 in labels with no predicted samples. Use `zero_division` parameter to control this behavior.\n",
            "  _warn_prf(average, modifier, f\"{metric.capitalize()} is\", len(result))\n",
            "c:\\Users\\Lavigi\\AppData\\Local\\Programs\\Python\\Python313\\Lib\\site-packages\\sklearn\\metrics\\_classification.py:1531: UndefinedMetricWarning: Precision is ill-defined and being set to 0.0 in labels with no predicted samples. Use `zero_division` parameter to control this behavior.\n",
            "  _warn_prf(average, modifier, f\"{metric.capitalize()} is\", len(result))\n"
          ]
        },
        {
          "name": "stdout",
          "output_type": "stream",
          "text": [
            "              precision    recall  f1-score   support\n",
            "\n",
            "      (0, 1]       0.00      0.00      0.00        26\n",
            "      (1, 2]       0.00      0.00      0.00       141\n",
            "      (2, 3]       0.03      0.00      0.01       353\n",
            "      (3, 4]       0.12      0.00      0.00      1027\n",
            "      (4, 5]       0.29      0.01      0.02      2719\n",
            "      (5, 6]       0.29      0.27      0.28      6372\n",
            "      (6, 7]       0.32      0.33      0.33     11643\n",
            "      (7, 8]       0.42      0.72      0.53     14463\n",
            "      (8, 9]       0.24      0.06      0.09      6563\n",
            "     (9, 10]       0.17      0.02      0.03      1281\n",
            "\n",
            "    accuracy                           0.37     44588\n",
            "   macro avg       0.19      0.14      0.13     44588\n",
            "weighted avg       0.32      0.37      0.31     44588\n",
            "\n"
          ]
        },
        {
          "name": "stderr",
          "output_type": "stream",
          "text": [
            "c:\\Users\\Lavigi\\AppData\\Local\\Programs\\Python\\Python313\\Lib\\site-packages\\sklearn\\metrics\\_classification.py:1531: UndefinedMetricWarning: Precision is ill-defined and being set to 0.0 in labels with no predicted samples. Use `zero_division` parameter to control this behavior.\n",
            "  _warn_prf(average, modifier, f\"{metric.capitalize()} is\", len(result))\n"
          ]
        }
      ],
      "source": [
        "clf = HistGradientBoostingClassifier(learning_rate=1.0, max_depth=2, random_state=0)\n",
        "clf.fit(X_train, y_train)\n",
        "\n",
        "y_pred = clf.predict(X_test)\n",
        "\n",
        "print('Accuracy %s' % accuracy_score(y_test, y_pred))\n",
        "print('F1-score %s' % f1_score(y_test, y_pred, average=None))\n",
        "print(classification_report(y_test, y_pred))"
      ]
    },
    {
      "cell_type": "markdown",
      "id": "7e043b93",
      "metadata": {
        "id": "7e043b93"
      },
      "source": [
        "# XGBoost\n",
        "https://xgboost.readthedocs.io/en/stable/python/python_intro.html"
      ]
    },
    {
      "cell_type": "code",
      "execution_count": 3,
      "id": "c1818771",
      "metadata": {
        "id": "c1818771",
        "outputId": "a9a5a20c-b91b-4728-950f-c733546ab175"
      },
      "outputs": [],
      "source": [
        "# !pip install xgboost"
      ]
    },
    {
      "cell_type": "code",
      "execution_count": null,
      "id": "3fbb7551",
      "metadata": {
        "id": "3fbb7551"
      },
      "outputs": [
        {
          "name": "stdout",
          "output_type": "stream",
          "text": [
            "Fitting 3 folds for each of 50 candidates, totalling 150 fits\n"
          ]
        },
        {
          "name": "stderr",
          "output_type": "stream",
          "text": [
            "c:\\Users\\Lavigi\\programmi\\Lib\\site-packages\\xgboost\\training.py:183: UserWarning: [20:26:08] WARNING: C:\\actions-runner\\_work\\xgboost\\xgboost\\src\\learner.cc:738: \n",
            "Parameters: { \"use_label_encoder\" } are not used.\n",
            "\n",
            "  bst.update(dtrain, iteration=i, fobj=obj)\n"
          ]
        },
        {
          "name": "stdout",
          "output_type": "stream",
          "text": [
            "Migliori parametri trovati: {'subsample': 1.0, 'reg_lambda': 10, 'reg_alpha': 1, 'n_estimators': 200, 'max_depth': 9, 'learning_rate': 0.2, 'gamma': 0.3, 'colsample_bytree': 0.8}\n",
            "Miglior punteggio: -1.2554743276377085\n"
          ]
        }
      ],
      "source": [
        "from xgboost import XGBRegressor\n",
        "from xgboost import XGBClassifier\n",
        "from sklearn.model_selection import RandomizedSearchCV, cross_val_score, StratifiedKFold\n",
        "from sklearn.metrics import accuracy_score, f1_score, classification_report, roc_curve, precision_recall_curve\n",
        "import numpy as np\n",
        "import matplotlib.pyplot as plt\n",
        "\n",
        "reg = XGBRegressor(tree_method='hist', use_label_encoder=True, random_state=42)\n",
        "\n",
        "# Definisci la griglia di parametri\n",
        "param_dist = {\n",
        "    'max_depth': [3, 5, 7, 9],\n",
        "    'learning_rate': [0.01, 0.1, 0.2, 0.3],\n",
        "    'n_estimators': [50, 100, 200, 300],\n",
        "    'gamma': [0, 0.1, 0.2, 0.3],\n",
        "    'subsample': [0.6, 0.8, 1.0],\n",
        "    'colsample_bytree': [0.6, 0.8, 1.0],\n",
        "    'reg_lambda': [0, 1, 10],\n",
        "    'reg_alpha': [0, 0.1, 1]\n",
        "}\n",
        "\n",
        "# Specifica il numero di iterazioni\n",
        "n_iter = 50 # Puoi modificare questo valore in base alle tue esigenze\n",
        "\n",
        "random_search = RandomizedSearchCV(estimator=reg, param_distributions=param_dist, scoring='neg_mean_squared_error',\n",
        "    cv=3, verbose=2, n_jobs=-1, n_iter=n_iter, error_score='raise')\n",
        "\n",
        "# Esegui la random search\n",
        "random_search.fit(X_train, y_train)\n",
        "\n",
        "# Stampa i migliori parametri\n",
        "print(\"Migliori parametri trovati:\", random_search.best_params_)\n",
        "print(\"Miglior punteggio:\", random_search.best_score_)\n",
        "\n"
      ]
    },
    {
      "cell_type": "code",
      "execution_count": 17,
      "id": "5b99bc81",
      "metadata": {
        "id": "5b99bc81"
      },
      "outputs": [
        {
          "name": "stderr",
          "output_type": "stream",
          "text": [
            "c:\\Users\\Lavigi\\programmi\\Lib\\site-packages\\xgboost\\training.py:183: UserWarning: [17:41:48] WARNING: C:\\actions-runner\\_work\\xgboost\\xgboost\\src\\learner.cc:738: \n",
            "Parameters: { \"use_label_encoder\" } are not used.\n",
            "\n",
            "  bst.update(dtrain, iteration=i, fobj=obj)\n"
          ]
        },
        {
          "name": "stdout",
          "output_type": "stream",
          "text": [
            "R2: 0.314\n",
            "MSE: 1.247\n",
            "MAE: 0.821\n"
          ]
        }
      ],
      "source": [
        "from xgboost import XGBRegressor\n",
        "\n",
        "best_model = XGBRegressor(\n",
        "    tree_method='hist', \n",
        "    use_label_encoder=False, \n",
        "    enable_categorical=True,  # Abilita il supporto per le variabili categoriche\n",
        "    random_state=42,\n",
        "    subsample=1.0,\n",
        "    reg_lambda=10,\n",
        "    reg_alpha=1,\n",
        "    n_estimators=200,\n",
        "    max_depth=9,\n",
        "    learning_rate=0.2,\n",
        "    gamma=0.3,\n",
        "    colsample_bytree=0.8\n",
        ")\n",
        "\n",
        "best_model.fit(X_train, y_train)\n",
        "y_pred = best_model.predict(X_test)\n",
        "\n",
        "# Calcola e stampa le metriche di valutazione\n",
        "from sklearn.metrics import r2_score, mean_squared_error, mean_absolute_error\n",
        "print('R2: %.3f' % r2_score(y_test, y_pred))\n",
        "print('MSE: %.3f' % mean_squared_error(y_test, y_pred))\n",
        "print('MAE: %.3f' % mean_absolute_error(y_test, y_pred))"
      ]
    },
    {
      "cell_type": "code",
      "execution_count": 18,
      "id": "76da6d88",
      "metadata": {},
      "outputs": [
        {
          "data": {
            "image/png": "[encoded data removed]",
            "text/plain": [
              "<Figure size 1000x600 with 1 Axes>"
            ]
          },
          "metadata": {},
          "output_type": "display_data"
        }
      ],
      "source": [
        "import matplotlib.pyplot as plt\n",
        "import xgboost as xgb\n",
        "\n",
        "# Calcola la feature importance\n",
        "importance = best_model.feature_importances_\n",
        "\n",
        "# Crea un grafico per visualizzare la feature importance\n",
        "plt.figure(figsize=(10, 6))\n",
        "plt.bar(range(len(importance)), importance)\n",
        "plt.xlabel('Feature Index')\n",
        "plt.ylabel('Importance Score')\n",
        "plt.title('Feature Importance')\n",
        "plt.show()"
      ]
    },
    {
      "cell_type": "code",
      "execution_count": 23,
      "id": "4915d844",
      "metadata": {},
      "outputs": [
        {
          "data": {
            "text/plain": [
              "['startYear',\n",
              " 'runtimeMinutes',\n",
              " 'awardWins',\n",
              " 'numVotes',\n",
              " 'totalImages',\n",
              " 'totalVideos',\n",
              " 'totalCredits',\n",
              " 'criticReviewsTotal',\n",
              " 'AwNmExWins',\n",
              " 'canHaveEpisodes',\n",
              " 'isAdult',\n",
              " 'numRegions',\n",
              " 'userReviewsTotal',\n",
              " 'castNumber',\n",
              " 'companiesNumber',\n",
              " 'averageRating',\n",
              " 'externalLinks',\n",
              " 'writerCredits',\n",
              " 'directorsCredits',\n",
              " 'quotesTotal',\n",
              " 'titleType']"
            ]
          },
          "execution_count": 23,
          "metadata": {},
          "output_type": "execute_result"
        }
      ],
      "source": [
        "df_num = df.select_dtypes(include=['number'])\n",
        "df_num = numerical_columns.tolist() + ['titleType']\n",
        "df_num"
      ]
    },
    {
      "cell_type": "code",
      "execution_count": 26,
      "id": "1d639a55",
      "metadata": {},
      "outputs": [],
      "source": [
        "# Supponiamo che df_num sia una lista di nomi di colonne\n",
        "df_num = [col for col in df_num if col != 'averageRating']"
      ]
    },
    {
      "cell_type": "code",
      "execution_count": 30,
      "id": "2c1c924d",
      "metadata": {},
      "outputs": [
        {
          "data": {
            "text/plain": [
              "['startYear',\n",
              " 'runtimeMinutes',\n",
              " 'awardWins',\n",
              " 'numVotes',\n",
              " 'totalImages',\n",
              " 'totalVideos',\n",
              " 'totalCredits',\n",
              " 'criticReviewsTotal',\n",
              " 'AwNmExWins',\n",
              " 'canHaveEpisodes',\n",
              " 'isAdult',\n",
              " 'numRegions',\n",
              " 'userReviewsTotal',\n",
              " 'castNumber',\n",
              " 'companiesNumber',\n",
              " 'externalLinks',\n",
              " 'writerCredits',\n",
              " 'directorsCredits',\n",
              " 'quotesTotal',\n",
              " 'titleType']"
            ]
          },
          "execution_count": 30,
          "metadata": {},
          "output_type": "execute_result"
        }
      ],
      "source": [
        "df_num"
      ]
    },
    {
      "cell_type": "code",
      "execution_count": 33,
      "id": "621831a2",
      "metadata": {},
      "outputs": [
        {
          "data": {
            "text/plain": [
              "array([5.7, 5.4, 5. , ..., 5.6, 7.1, 8.6])"
            ]
          },
          "execution_count": 33,
          "metadata": {},
          "output_type": "execute_result"
        }
      ],
      "source": [
        "y"
      ]
    },
    {
      "cell_type": "code",
      "execution_count": 27,
      "id": "7a9407ae",
      "metadata": {},
      "outputs": [
        {
          "ename": "ValueError",
          "evalue": "Shape of passed values is (104036, 19), indices imply (104036, 20)",
          "output_type": "error",
          "traceback": [
            "\u001b[1;31m---------------------------------------------------------------------------\u001b[0m",
            "\u001b[1;31mValueError\u001b[0m                                Traceback (most recent call last)",
            "Cell \u001b[1;32mIn[27], line 5\u001b[0m\n\u001b[0;32m      1\u001b[0m \u001b[38;5;28;01mimport\u001b[39;00m \u001b[38;5;21;01mpandas\u001b[39;00m \u001b[38;5;28;01mas\u001b[39;00m \u001b[38;5;21;01mpd\u001b[39;00m\n\u001b[0;32m      3\u001b[0m \u001b[38;5;66;03m# Supponiamo che X_train sia un array di NumPy\u001b[39;00m\n\u001b[0;32m      4\u001b[0m \u001b[38;5;66;03m# Converti X_train in un DataFrame di Pandas\u001b[39;00m\n\u001b[1;32m----> 5\u001b[0m X_train_df \u001b[38;5;241m=\u001b[39m pd\u001b[38;5;241m.\u001b[39mDataFrame(X_train, columns\u001b[38;5;241m=\u001b[39mdf_num)  \u001b[38;5;66;03m# Sostituisci con i nomi delle tue feature\u001b[39;00m\n\u001b[0;32m      7\u001b[0m \u001b[38;5;66;03m# Calcola la feature importance\u001b[39;00m\n\u001b[0;32m      8\u001b[0m importance \u001b[38;5;241m=\u001b[39m best_model\u001b[38;5;241m.\u001b[39mfeature_importances_\n",
            "File \u001b[1;32mc:\\Users\\Lavigi\\programmi\\Lib\\site-packages\\pandas\\core\\frame.py:827\u001b[0m, in \u001b[0;36mDataFrame.__init__\u001b[1;34m(self, data, index, columns, dtype, copy)\u001b[0m\n\u001b[0;32m    816\u001b[0m         mgr \u001b[38;5;241m=\u001b[39m dict_to_mgr(\n\u001b[0;32m    817\u001b[0m             \u001b[38;5;66;03m# error: Item \"ndarray\" of \"Union[ndarray, Series, Index]\" has no\u001b[39;00m\n\u001b[0;32m    818\u001b[0m             \u001b[38;5;66;03m# attribute \"name\"\u001b[39;00m\n\u001b[1;32m   (...)\u001b[0m\n\u001b[0;32m    824\u001b[0m             copy\u001b[38;5;241m=\u001b[39m_copy,\n\u001b[0;32m    825\u001b[0m         )\n\u001b[0;32m    826\u001b[0m     \u001b[38;5;28;01melse\u001b[39;00m:\n\u001b[1;32m--> 827\u001b[0m         mgr \u001b[38;5;241m=\u001b[39m ndarray_to_mgr(\n\u001b[0;32m    828\u001b[0m             data,\n\u001b[0;32m    829\u001b[0m             index,\n\u001b[0;32m    830\u001b[0m             columns,\n\u001b[0;32m    831\u001b[0m             dtype\u001b[38;5;241m=\u001b[39mdtype,\n\u001b[0;32m    832\u001b[0m             copy\u001b[38;5;241m=\u001b[39mcopy,\n\u001b[0;32m    833\u001b[0m             typ\u001b[38;5;241m=\u001b[39mmanager,\n\u001b[0;32m    834\u001b[0m         )\n\u001b[0;32m    836\u001b[0m \u001b[38;5;66;03m# For data is list-like, or Iterable (will consume into list)\u001b[39;00m\n\u001b[0;32m    837\u001b[0m \u001b[38;5;28;01melif\u001b[39;00m is_list_like(data):\n",
            "File \u001b[1;32mc:\\Users\\Lavigi\\programmi\\Lib\\site-packages\\pandas\\core\\internals\\construction.py:336\u001b[0m, in \u001b[0;36mndarray_to_mgr\u001b[1;34m(values, index, columns, dtype, copy, typ)\u001b[0m\n\u001b[0;32m    331\u001b[0m \u001b[38;5;66;03m# _prep_ndarraylike ensures that values.ndim == 2 at this point\u001b[39;00m\n\u001b[0;32m    332\u001b[0m index, columns \u001b[38;5;241m=\u001b[39m _get_axes(\n\u001b[0;32m    333\u001b[0m     values\u001b[38;5;241m.\u001b[39mshape[\u001b[38;5;241m0\u001b[39m], values\u001b[38;5;241m.\u001b[39mshape[\u001b[38;5;241m1\u001b[39m], index\u001b[38;5;241m=\u001b[39mindex, columns\u001b[38;5;241m=\u001b[39mcolumns\n\u001b[0;32m    334\u001b[0m )\n\u001b[1;32m--> 336\u001b[0m _check_values_indices_shape_match(values, index, columns)\n\u001b[0;32m    338\u001b[0m \u001b[38;5;28;01mif\u001b[39;00m typ \u001b[38;5;241m==\u001b[39m \u001b[38;5;124m\"\u001b[39m\u001b[38;5;124marray\u001b[39m\u001b[38;5;124m\"\u001b[39m:\n\u001b[0;32m    339\u001b[0m     \u001b[38;5;28;01mif\u001b[39;00m \u001b[38;5;28missubclass\u001b[39m(values\u001b[38;5;241m.\u001b[39mdtype\u001b[38;5;241m.\u001b[39mtype, \u001b[38;5;28mstr\u001b[39m):\n",
            "File \u001b[1;32mc:\\Users\\Lavigi\\programmi\\Lib\\site-packages\\pandas\\core\\internals\\construction.py:420\u001b[0m, in \u001b[0;36m_check_values_indices_shape_match\u001b[1;34m(values, index, columns)\u001b[0m\n\u001b[0;32m    418\u001b[0m passed \u001b[38;5;241m=\u001b[39m values\u001b[38;5;241m.\u001b[39mshape\n\u001b[0;32m    419\u001b[0m implied \u001b[38;5;241m=\u001b[39m (\u001b[38;5;28mlen\u001b[39m(index), \u001b[38;5;28mlen\u001b[39m(columns))\n\u001b[1;32m--> 420\u001b[0m \u001b[38;5;28;01mraise\u001b[39;00m \u001b[38;5;167;01mValueError\u001b[39;00m(\u001b[38;5;124mf\u001b[39m\u001b[38;5;124m\"\u001b[39m\u001b[38;5;124mShape of passed values is \u001b[39m\u001b[38;5;132;01m{\u001b[39;00mpassed\u001b[38;5;132;01m}\u001b[39;00m\u001b[38;5;124m, indices imply \u001b[39m\u001b[38;5;132;01m{\u001b[39;00mimplied\u001b[38;5;132;01m}\u001b[39;00m\u001b[38;5;124m\"\u001b[39m)\n",
            "\u001b[1;31mValueError\u001b[0m: Shape of passed values is (104036, 19), indices imply (104036, 20)"
          ]
        }
      ],
      "source": [
        "import pandas as pd\n",
        "\n",
        "# Supponiamo che X_train sia un array di NumPy\n",
        "# Converti X_train in un DataFrame di Pandas\n",
        "X_train_df = pd.DataFrame(X_train, columns=df_num)  # Sostituisci con i nomi delle tue feature\n",
        "\n",
        "# Calcola la feature importance\n",
        "importance = best_model.feature_importances_\n",
        "\n",
        "# Crea un DataFrame con i nomi delle feature e la loro importanza\n",
        "feature_importance_df = pd.DataFrame({\n",
        "    'Feature': X_train_df.columns,\n",
        "    'Importance': importance\n",
        "})\n",
        "\n",
        "# Ordina il DataFrame per importanza decrescente e seleziona le prime 10 feature\n",
        "top_features = feature_importance_df.sort_values(by='Importance', ascending=False).head(19)\n",
        "\n",
        "# Crea un grafico a barre per visualizzare le 10 feature più importanti\n",
        "plt.figure(figsize=(10, 6))\n",
        "plt.barh(top_features['Feature'], top_features['Importance'])\n",
        "plt.xlabel('Importance Score')\n",
        "plt.ylabel('Feature')\n",
        "plt.title('Top 10 Feature Importance')\n",
        "plt.gca().invert_yaxis()\n",
        "plt.show()\n"
      ]
    },
    {
      "cell_type": "code",
      "execution_count": 46,
      "id": "9b32e5ff",
      "metadata": {},
      "outputs": [
        {
          "data": {
            "text/html": [
              "<div>\n",
              "<style scoped>\n",
              "    .dataframe tbody tr th:only-of-type {\n",
              "        vertical-align: middle;\n",
              "    }\n",
              "\n",
              "    .dataframe tbody tr th {\n",
              "        vertical-align: top;\n",
              "    }\n",
              "\n",
              "    .dataframe thead th {\n",
              "        text-align: right;\n",
              "    }\n",
              "</style>\n",
              "<table border=\"1\" class=\"dataframe\">\n",
              "  <thead>\n",
              "    <tr style=\"text-align: right;\">\n",
              "      <th></th>\n",
              "      <th>startYear</th>\n",
              "      <th>runtimeMinutes</th>\n",
              "      <th>awardWins</th>\n",
              "      <th>numVotes</th>\n",
              "      <th>totalImages</th>\n",
              "      <th>totalVideos</th>\n",
              "      <th>totalCredits</th>\n",
              "      <th>criticReviewsTotal</th>\n",
              "      <th>AwNmExWins</th>\n",
              "      <th>canHaveEpisodes</th>\n",
              "      <th>isAdult</th>\n",
              "      <th>numRegions</th>\n",
              "      <th>userReviewsTotal</th>\n",
              "      <th>castNumber</th>\n",
              "      <th>companiesNumber</th>\n",
              "      <th>externalLinks</th>\n",
              "      <th>writerCredits</th>\n",
              "      <th>directorsCredits</th>\n",
              "      <th>quotesTotal</th>\n",
              "    </tr>\n",
              "  </thead>\n",
              "  <tbody>\n",
              "    <tr>\n",
              "      <th>0</th>\n",
              "      <td>1894</td>\n",
              "      <td>1.0</td>\n",
              "      <td>0.000000</td>\n",
              "      <td>7.644919</td>\n",
              "      <td>1.098612</td>\n",
              "      <td>0.000000</td>\n",
              "      <td>4</td>\n",
              "      <td>1.386294</td>\n",
              "      <td>0.000000</td>\n",
              "      <td>0</td>\n",
              "      <td>0</td>\n",
              "      <td>7</td>\n",
              "      <td>2.833213</td>\n",
              "      <td>0.693147</td>\n",
              "      <td>1.386294</td>\n",
              "      <td>2.302585</td>\n",
              "      <td>0.000000</td>\n",
              "      <td>0.693147</td>\n",
              "      <td>0.0</td>\n",
              "    </tr>\n",
              "    <tr>\n",
              "      <th>1</th>\n",
              "      <td>1892</td>\n",
              "      <td>12.0</td>\n",
              "      <td>0.000000</td>\n",
              "      <td>5.214936</td>\n",
              "      <td>1.098612</td>\n",
              "      <td>0.000000</td>\n",
              "      <td>2</td>\n",
              "      <td>0.000000</td>\n",
              "      <td>0.000000</td>\n",
              "      <td>0</td>\n",
              "      <td>0</td>\n",
              "      <td>6</td>\n",
              "      <td>0.693147</td>\n",
              "      <td>0.000000</td>\n",
              "      <td>0.000000</td>\n",
              "      <td>1.386294</td>\n",
              "      <td>0.000000</td>\n",
              "      <td>0.693147</td>\n",
              "      <td>0.0</td>\n",
              "    </tr>\n",
              "    <tr>\n",
              "      <th>2</th>\n",
              "      <td>1894</td>\n",
              "      <td>1.0</td>\n",
              "      <td>0.000000</td>\n",
              "      <td>5.278115</td>\n",
              "      <td>0.693147</td>\n",
              "      <td>0.000000</td>\n",
              "      <td>1</td>\n",
              "      <td>0.000000</td>\n",
              "      <td>0.000000</td>\n",
              "      <td>0</td>\n",
              "      <td>0</td>\n",
              "      <td>5</td>\n",
              "      <td>0.000000</td>\n",
              "      <td>0.000000</td>\n",
              "      <td>0.693147</td>\n",
              "      <td>1.609438</td>\n",
              "      <td>0.000000</td>\n",
              "      <td>0.693147</td>\n",
              "      <td>0.0</td>\n",
              "    </tr>\n",
              "    <tr>\n",
              "      <th>3</th>\n",
              "      <td>1894</td>\n",
              "      <td>1.0</td>\n",
              "      <td>0.693147</td>\n",
              "      <td>7.713338</td>\n",
              "      <td>1.386294</td>\n",
              "      <td>0.000000</td>\n",
              "      <td>4</td>\n",
              "      <td>1.098612</td>\n",
              "      <td>0.000000</td>\n",
              "      <td>0</td>\n",
              "      <td>0</td>\n",
              "      <td>6</td>\n",
              "      <td>3.044522</td>\n",
              "      <td>0.693147</td>\n",
              "      <td>1.945910</td>\n",
              "      <td>1.945910</td>\n",
              "      <td>0.000000</td>\n",
              "      <td>0.693147</td>\n",
              "      <td>0.0</td>\n",
              "    </tr>\n",
              "    <tr>\n",
              "      <th>4</th>\n",
              "      <td>1894</td>\n",
              "      <td>2.0</td>\n",
              "      <td>0.000000</td>\n",
              "      <td>7.107425</td>\n",
              "      <td>2.772589</td>\n",
              "      <td>0.000000</td>\n",
              "      <td>1</td>\n",
              "      <td>0.000000</td>\n",
              "      <td>0.000000</td>\n",
              "      <td>0</td>\n",
              "      <td>0</td>\n",
              "      <td>6</td>\n",
              "      <td>2.197225</td>\n",
              "      <td>0.000000</td>\n",
              "      <td>0.000000</td>\n",
              "      <td>1.386294</td>\n",
              "      <td>0.000000</td>\n",
              "      <td>0.693147</td>\n",
              "      <td>0.0</td>\n",
              "    </tr>\n",
              "    <tr>\n",
              "      <th>...</th>\n",
              "      <td>...</td>\n",
              "      <td>...</td>\n",
              "      <td>...</td>\n",
              "      <td>...</td>\n",
              "      <td>...</td>\n",
              "      <td>...</td>\n",
              "      <td>...</td>\n",
              "      <td>...</td>\n",
              "      <td>...</td>\n",
              "      <td>...</td>\n",
              "      <td>...</td>\n",
              "      <td>...</td>\n",
              "      <td>...</td>\n",
              "      <td>...</td>\n",
              "      <td>...</td>\n",
              "      <td>...</td>\n",
              "      <td>...</td>\n",
              "      <td>...</td>\n",
              "      <td>...</td>\n",
              "    </tr>\n",
              "    <tr>\n",
              "      <th>148619</th>\n",
              "      <td>1993</td>\n",
              "      <td>96.0</td>\n",
              "      <td>0.000000</td>\n",
              "      <td>2.484907</td>\n",
              "      <td>0.000000</td>\n",
              "      <td>0.000000</td>\n",
              "      <td>11</td>\n",
              "      <td>0.000000</td>\n",
              "      <td>0.000000</td>\n",
              "      <td>0</td>\n",
              "      <td>0</td>\n",
              "      <td>1</td>\n",
              "      <td>0.000000</td>\n",
              "      <td>0.000000</td>\n",
              "      <td>1.098612</td>\n",
              "      <td>0.693147</td>\n",
              "      <td>0.693147</td>\n",
              "      <td>0.693147</td>\n",
              "      <td>0.0</td>\n",
              "    </tr>\n",
              "    <tr>\n",
              "      <th>148620</th>\n",
              "      <td>2019</td>\n",
              "      <td>14.0</td>\n",
              "      <td>0.000000</td>\n",
              "      <td>2.772589</td>\n",
              "      <td>1.609438</td>\n",
              "      <td>0.693147</td>\n",
              "      <td>52</td>\n",
              "      <td>0.693147</td>\n",
              "      <td>1.386294</td>\n",
              "      <td>0</td>\n",
              "      <td>0</td>\n",
              "      <td>1</td>\n",
              "      <td>0.000000</td>\n",
              "      <td>1.945910</td>\n",
              "      <td>1.386294</td>\n",
              "      <td>1.791759</td>\n",
              "      <td>0.693147</td>\n",
              "      <td>0.693147</td>\n",
              "      <td>0.0</td>\n",
              "    </tr>\n",
              "    <tr>\n",
              "      <th>148621</th>\n",
              "      <td>2019</td>\n",
              "      <td>0.0</td>\n",
              "      <td>0.000000</td>\n",
              "      <td>2.564949</td>\n",
              "      <td>1.098612</td>\n",
              "      <td>1.386294</td>\n",
              "      <td>32</td>\n",
              "      <td>0.000000</td>\n",
              "      <td>0.000000</td>\n",
              "      <td>0</td>\n",
              "      <td>0</td>\n",
              "      <td>0</td>\n",
              "      <td>0.000000</td>\n",
              "      <td>0.693147</td>\n",
              "      <td>0.000000</td>\n",
              "      <td>0.000000</td>\n",
              "      <td>0.000000</td>\n",
              "      <td>0.000000</td>\n",
              "      <td>0.0</td>\n",
              "    </tr>\n",
              "    <tr>\n",
              "      <th>148622</th>\n",
              "      <td>2011</td>\n",
              "      <td>10.0</td>\n",
              "      <td>0.000000</td>\n",
              "      <td>2.302585</td>\n",
              "      <td>0.693147</td>\n",
              "      <td>0.000000</td>\n",
              "      <td>15</td>\n",
              "      <td>0.000000</td>\n",
              "      <td>0.000000</td>\n",
              "      <td>0</td>\n",
              "      <td>0</td>\n",
              "      <td>0</td>\n",
              "      <td>0.000000</td>\n",
              "      <td>2.079442</td>\n",
              "      <td>0.000000</td>\n",
              "      <td>0.000000</td>\n",
              "      <td>1.386294</td>\n",
              "      <td>0.693147</td>\n",
              "      <td>0.0</td>\n",
              "    </tr>\n",
              "    <tr>\n",
              "      <th>148623</th>\n",
              "      <td>2019</td>\n",
              "      <td>0.0</td>\n",
              "      <td>0.000000</td>\n",
              "      <td>2.302585</td>\n",
              "      <td>1.386294</td>\n",
              "      <td>0.000000</td>\n",
              "      <td>33</td>\n",
              "      <td>0.000000</td>\n",
              "      <td>0.000000</td>\n",
              "      <td>0</td>\n",
              "      <td>0</td>\n",
              "      <td>0</td>\n",
              "      <td>0.000000</td>\n",
              "      <td>2.302585</td>\n",
              "      <td>0.000000</td>\n",
              "      <td>0.000000</td>\n",
              "      <td>1.386294</td>\n",
              "      <td>1.098612</td>\n",
              "      <td>0.0</td>\n",
              "    </tr>\n",
              "  </tbody>\n",
              "</table>\n",
              "<p>148624 rows × 19 columns</p>\n",
              "</div>"
            ],
            "text/plain": [
              "        startYear  runtimeMinutes  awardWins  numVotes  totalImages  \\\n",
              "0            1894             1.0   0.000000  7.644919     1.098612   \n",
              "1            1892            12.0   0.000000  5.214936     1.098612   \n",
              "2            1894             1.0   0.000000  5.278115     0.693147   \n",
              "3            1894             1.0   0.693147  7.713338     1.386294   \n",
              "4            1894             2.0   0.000000  7.107425     2.772589   \n",
              "...           ...             ...        ...       ...          ...   \n",
              "148619       1993            96.0   0.000000  2.484907     0.000000   \n",
              "148620       2019            14.0   0.000000  2.772589     1.609438   \n",
              "148621       2019             0.0   0.000000  2.564949     1.098612   \n",
              "148622       2011            10.0   0.000000  2.302585     0.693147   \n",
              "148623       2019             0.0   0.000000  2.302585     1.386294   \n",
              "\n",
              "        totalVideos  totalCredits  criticReviewsTotal  AwNmExWins  \\\n",
              "0          0.000000             4            1.386294    0.000000   \n",
              "1          0.000000             2            0.000000    0.000000   \n",
              "2          0.000000             1            0.000000    0.000000   \n",
              "3          0.000000             4            1.098612    0.000000   \n",
              "4          0.000000             1            0.000000    0.000000   \n",
              "...             ...           ...                 ...         ...   \n",
              "148619     0.000000            11            0.000000    0.000000   \n",
              "148620     0.693147            52            0.693147    1.386294   \n",
              "148621     1.386294            32            0.000000    0.000000   \n",
              "148622     0.000000            15            0.000000    0.000000   \n",
              "148623     0.000000            33            0.000000    0.000000   \n",
              "\n",
              "        canHaveEpisodes  isAdult  numRegions  userReviewsTotal  castNumber  \\\n",
              "0                     0        0           7          2.833213    0.693147   \n",
              "1                     0        0           6          0.693147    0.000000   \n",
              "2                     0        0           5          0.000000    0.000000   \n",
              "3                     0        0           6          3.044522    0.693147   \n",
              "4                     0        0           6          2.197225    0.000000   \n",
              "...                 ...      ...         ...               ...         ...   \n",
              "148619                0        0           1          0.000000    0.000000   \n",
              "148620                0        0           1          0.000000    1.945910   \n",
              "148621                0        0           0          0.000000    0.693147   \n",
              "148622                0        0           0          0.000000    2.079442   \n",
              "148623                0        0           0          0.000000    2.302585   \n",
              "\n",
              "        companiesNumber  externalLinks  writerCredits  directorsCredits  \\\n",
              "0              1.386294       2.302585       0.000000          0.693147   \n",
              "1              0.000000       1.386294       0.000000          0.693147   \n",
              "2              0.693147       1.609438       0.000000          0.693147   \n",
              "3              1.945910       1.945910       0.000000          0.693147   \n",
              "4              0.000000       1.386294       0.000000          0.693147   \n",
              "...                 ...            ...            ...               ...   \n",
              "148619         1.098612       0.693147       0.693147          0.693147   \n",
              "148620         1.386294       1.791759       0.693147          0.693147   \n",
              "148621         0.000000       0.000000       0.000000          0.000000   \n",
              "148622         0.000000       0.000000       1.386294          0.693147   \n",
              "148623         0.000000       0.000000       1.386294          1.098612   \n",
              "\n",
              "        quotesTotal  \n",
              "0               0.0  \n",
              "1               0.0  \n",
              "2               0.0  \n",
              "3               0.0  \n",
              "4               0.0  \n",
              "...             ...  \n",
              "148619          0.0  \n",
              "148620          0.0  \n",
              "148621          0.0  \n",
              "148622          0.0  \n",
              "148623          0.0  \n",
              "\n",
              "[148624 rows x 19 columns]"
            ]
          },
          "execution_count": 46,
          "metadata": {},
          "output_type": "execute_result"
        }
      ],
      "source": [
        "df_num"
      ]
    }
  ],
  "metadata": {
    "accelerator": "GPU",
    "colab": {
      "gpuType": "T4",
      "provenance": []
    },
    "kernelspec": {
      "display_name": "base",
      "language": "python",
      "name": "python3"
    },
    "language_info": {
      "codemirror_mode": {
        "name": "ipython",
        "version": 3
      },
      "file_extension": ".py",
      "mimetype": "text/x-python",
      "name": "python",
      "nbconvert_exporter": "python",
      "pygments_lexer": "ipython3",
      "version": "3.11.5"
    }
  },
  "nbformat": 4,
  "nbformat_minor": 5
}
